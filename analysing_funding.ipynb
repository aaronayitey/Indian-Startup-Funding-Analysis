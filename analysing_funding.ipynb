{
 "cells": [
  {
   "cell_type": "markdown",
   "metadata": {},
   "source": [
    "# DATA ANALYSIS PROJECT"
   ]
  },
  {
   "cell_type": "markdown",
   "metadata": {},
   "source": [
    "## INDIAN START-UPS FUNDING. INSIGHTS AND TRENDS FROM 2018 TO 2021"
   ]
  },
  {
   "cell_type": "markdown",
   "metadata": {},
   "source": [
    "### Project Description\n",
    "This data analysis project focuses on the funding received by start-ups in India from 2018 to 2021. <br><br>The objective is to gain insights into the ecosystem and propose the best course of action for our team's venture. <br><br>By analyzing the data on funding amounts, start-up details, and investor information, we aim to unearth prevailing patterns and gain insights about the opportunities in India's start-up ecosystem to inform decision-making."
   ]
  },
  {
   "cell_type": "markdown",
   "metadata": {},
   "source": [
    "### Taking Preview of the Data at Hand"
   ]
  },
  {
   "cell_type": "markdown",
   "metadata": {},
   "source": [
    "Data from four different sources were gathered for this project. Two from Microsoft SQL Server, one from onedrive and the last one from a github repo.\n",
    "\n",
    "We set the van off with loading the needed libraries."
   ]
  },
  {
   "cell_type": "code",
   "execution_count": 62,
   "metadata": {},
   "outputs": [],
   "source": [
    "# Load some libraries\n",
    "\n",
    "import pyodbc\n",
    "from dotenv import dotenv_values\n",
    "import pandas as pd\n",
    "import numpy as np\n",
    "import matplotlib.pyplot as plt\n",
    "%matplotlib inline\n",
    "from sklearn.impute import SimpleImputer\n",
    "import re\n",
    "import warnings\n",
    "\n",
    "warnings.filterwarnings('ignore')\n",
    "\n",
    "# Display all columns and rows\n",
    "pd.set_option('display.max_columns', None)\n",
    "pd.set_option('display.max_rows', None)\n",
    "\n",
    "# Convert amounts from scientific format\n",
    "pd.set_option('display.float_format', '{:.1f}'.format)"
   ]
  },
  {
   "cell_type": "code",
   "execution_count": 63,
   "metadata": {},
   "outputs": [],
   "source": [
    "# # Load environment variables from .env file into a dictionary\n",
    "\n",
    "# env_var = dotenv_values('.env')\n",
    "\n",
    "# # Get the values for the credentials you set in the '.env' file\n",
    "\n",
    "# database = env_var.get('DATABASE')\n",
    "# username = env_var.get('USERNAME')\n",
    "# password = env_var.get('PASSWORD')\n",
    "# server = env_var.get('SERVER')\n",
    "\n",
    "\n",
    "# connection_string = f\"DRIVER={{SQL Server}}; SERVER={server};DATABASE={database};UID={username};PWD={password}\""
   ]
  },
  {
   "cell_type": "code",
   "execution_count": 64,
   "metadata": {},
   "outputs": [],
   "source": [
    "# Get the values for the database credentials set in the '.env' file\n",
    "env_var = {key.upper(): value for key, value in dotenv_values('.env').items()}\n",
    "\n",
    "# Unpack the values from the dictionary\n",
    "database, username, password, server = (env_var.get(key) for key in ['DATABASE', 'USERNAME', 'PASSWORD', 'SERVER'])\n",
    "\n",
    "connection_string = f\"DRIVER={{SQL Server}}; SERVER={server};DATABASE={database};UID={username};PWD={password}\""
   ]
  },
  {
   "cell_type": "code",
   "execution_count": 65,
   "metadata": {},
   "outputs": [],
   "source": [
    "# Connect to database\n",
    "\n",
    "connection = pyodbc.connect(connection_string)"
   ]
  },
  {
   "cell_type": "markdown",
   "metadata": {},
   "source": [
    "Success! Now, we read the data using sql SELECT statement and pandas' read_sql."
   ]
  },
  {
   "cell_type": "code",
   "execution_count": 66,
   "metadata": {},
   "outputs": [],
   "source": [
    "# Loading the data for 2020\n",
    "\n",
    "query2020 = \"select * from dbo.LP1_startup_funding2020\"\n",
    "\n",
    "data2020 = pd.read_sql(query2020, connection)"
   ]
  },
  {
   "cell_type": "code",
   "execution_count": 67,
   "metadata": {},
   "outputs": [],
   "source": [
    "# Loading the data for 2021\n",
    "\n",
    "query2021 = \"select * from dbo.LP1_startup_funding2021\"\n",
    "\n",
    "data2021 = pd.read_sql(query2021, connection)"
   ]
  },
  {
   "cell_type": "markdown",
   "metadata": {},
   "source": [
    "Perfect! We hop onto the other datasets obtained in '.csv' format"
   ]
  },
  {
   "cell_type": "code",
   "execution_count": 68,
   "metadata": {},
   "outputs": [],
   "source": [
    "# Loading data for 2018 & 2019\n",
    "\n",
    "\n",
    "data2018 = pd.read_csv('startup_funding2018.csv')\n",
    "data2019 = pd.read_csv('startup_funding2019.csv')"
   ]
  },
  {
   "attachments": {},
   "cell_type": "markdown",
   "metadata": {},
   "source": [
    "### Data Inspection"
   ]
  },
  {
   "attachments": {},
   "cell_type": "markdown",
   "metadata": {},
   "source": [
    "### 2021 Data"
   ]
  },
  {
   "cell_type": "code",
   "execution_count": 69,
   "metadata": {},
   "outputs": [
    {
     "data": {
      "text/html": [
       "<div>\n",
       "<style scoped>\n",
       "    .dataframe tbody tr th:only-of-type {\n",
       "        vertical-align: middle;\n",
       "    }\n",
       "\n",
       "    .dataframe tbody tr th {\n",
       "        vertical-align: top;\n",
       "    }\n",
       "\n",
       "    .dataframe thead th {\n",
       "        text-align: right;\n",
       "    }\n",
       "</style>\n",
       "<table border=\"1\" class=\"dataframe\">\n",
       "  <thead>\n",
       "    <tr style=\"text-align: right;\">\n",
       "      <th></th>\n",
       "      <th>Company_Brand</th>\n",
       "      <th>Founded</th>\n",
       "      <th>HeadQuarter</th>\n",
       "      <th>Sector</th>\n",
       "      <th>What_it_does</th>\n",
       "      <th>Founders</th>\n",
       "      <th>Investor</th>\n",
       "      <th>Amount</th>\n",
       "      <th>Stage</th>\n",
       "    </tr>\n",
       "  </thead>\n",
       "  <tbody>\n",
       "    <tr>\n",
       "      <th>0</th>\n",
       "      <td>Unbox Robotics</td>\n",
       "      <td>2019.0</td>\n",
       "      <td>Bangalore</td>\n",
       "      <td>AI startup</td>\n",
       "      <td>Unbox Robotics builds on-demand AI-driven ware...</td>\n",
       "      <td>Pramod Ghadge, Shahid Memon</td>\n",
       "      <td>BEENEXT, Entrepreneur First</td>\n",
       "      <td>$1,200,000</td>\n",
       "      <td>Pre-series A</td>\n",
       "    </tr>\n",
       "    <tr>\n",
       "      <th>1</th>\n",
       "      <td>upGrad</td>\n",
       "      <td>2015.0</td>\n",
       "      <td>Mumbai</td>\n",
       "      <td>EdTech</td>\n",
       "      <td>UpGrad is an online higher education platform.</td>\n",
       "      <td>Mayank Kumar, Phalgun Kompalli, Ravijot Chugh,...</td>\n",
       "      <td>Unilazer Ventures, IIFL Asset Management</td>\n",
       "      <td>$120,000,000</td>\n",
       "      <td>None</td>\n",
       "    </tr>\n",
       "    <tr>\n",
       "      <th>2</th>\n",
       "      <td>Lead School</td>\n",
       "      <td>2012.0</td>\n",
       "      <td>Mumbai</td>\n",
       "      <td>EdTech</td>\n",
       "      <td>LEAD School offers technology based school tra...</td>\n",
       "      <td>Smita Deorah, Sumeet Mehta</td>\n",
       "      <td>GSV Ventures, Westbridge Capital</td>\n",
       "      <td>$30,000,000</td>\n",
       "      <td>Series D</td>\n",
       "    </tr>\n",
       "    <tr>\n",
       "      <th>3</th>\n",
       "      <td>Bizongo</td>\n",
       "      <td>2015.0</td>\n",
       "      <td>Mumbai</td>\n",
       "      <td>B2B E-commerce</td>\n",
       "      <td>Bizongo is a business-to-business online marke...</td>\n",
       "      <td>Aniket Deb, Ankit Tomar, Sachin Agrawal</td>\n",
       "      <td>CDC Group, IDG Capital</td>\n",
       "      <td>$51,000,000</td>\n",
       "      <td>Series C</td>\n",
       "    </tr>\n",
       "    <tr>\n",
       "      <th>4</th>\n",
       "      <td>FypMoney</td>\n",
       "      <td>2021.0</td>\n",
       "      <td>Gurugram</td>\n",
       "      <td>FinTech</td>\n",
       "      <td>FypMoney is Digital NEO Bank for Teenagers, em...</td>\n",
       "      <td>Kapil Banwari</td>\n",
       "      <td>Liberatha Kallat, Mukesh Yadav, Dinesh Nagpal</td>\n",
       "      <td>$2,000,000</td>\n",
       "      <td>Seed</td>\n",
       "    </tr>\n",
       "    <tr>\n",
       "      <th>5</th>\n",
       "      <td>Urban Company</td>\n",
       "      <td>2014.0</td>\n",
       "      <td>New Delhi</td>\n",
       "      <td>Home services</td>\n",
       "      <td>Urban Company (Formerly UrbanClap) is a home a...</td>\n",
       "      <td>Abhiraj Singh Bhal, Raghav Chandra, Varun Khaitan</td>\n",
       "      <td>Vy Capital</td>\n",
       "      <td>$188,000,000</td>\n",
       "      <td>None</td>\n",
       "    </tr>\n",
       "    <tr>\n",
       "      <th>6</th>\n",
       "      <td>Comofi Medtech</td>\n",
       "      <td>2018.0</td>\n",
       "      <td>Bangalore</td>\n",
       "      <td>HealthTech</td>\n",
       "      <td>Comofi Medtech is a healthcare robotics startup.</td>\n",
       "      <td>Gururaj KB</td>\n",
       "      <td>CIIE.CO, KIIT-TBI</td>\n",
       "      <td>$200,000</td>\n",
       "      <td>None</td>\n",
       "    </tr>\n",
       "    <tr>\n",
       "      <th>7</th>\n",
       "      <td>Qube Health</td>\n",
       "      <td>2016.0</td>\n",
       "      <td>Mumbai</td>\n",
       "      <td>HealthTech</td>\n",
       "      <td>India's Most Respected Workplace Healthcare Ma...</td>\n",
       "      <td>Gagan Kapur</td>\n",
       "      <td>Inflection Point Ventures</td>\n",
       "      <td>Undisclosed</td>\n",
       "      <td>Pre-series A</td>\n",
       "    </tr>\n",
       "    <tr>\n",
       "      <th>8</th>\n",
       "      <td>Vitra.ai</td>\n",
       "      <td>2020.0</td>\n",
       "      <td>Bangalore</td>\n",
       "      <td>Tech Startup</td>\n",
       "      <td>Vitra.ai is an AI-based video translation plat...</td>\n",
       "      <td>Akash Nidhi PS</td>\n",
       "      <td>Inflexor Ventures</td>\n",
       "      <td>Undisclosed</td>\n",
       "      <td>None</td>\n",
       "    </tr>\n",
       "    <tr>\n",
       "      <th>9</th>\n",
       "      <td>Taikee</td>\n",
       "      <td>2010.0</td>\n",
       "      <td>Mumbai</td>\n",
       "      <td>E-commerce</td>\n",
       "      <td>Taikee is the ISO-certified, B2B e-commerce pl...</td>\n",
       "      <td>Nidhi Ramachandran, Sachin Chhabra</td>\n",
       "      <td>None</td>\n",
       "      <td>$1,000,000</td>\n",
       "      <td>None</td>\n",
       "    </tr>\n",
       "  </tbody>\n",
       "</table>\n",
       "</div>"
      ],
      "text/plain": [
       "    Company_Brand  Founded HeadQuarter          Sector  \\\n",
       "0  Unbox Robotics   2019.0   Bangalore      AI startup   \n",
       "1          upGrad   2015.0      Mumbai          EdTech   \n",
       "2     Lead School   2012.0      Mumbai          EdTech   \n",
       "3         Bizongo   2015.0      Mumbai  B2B E-commerce   \n",
       "4        FypMoney   2021.0    Gurugram         FinTech   \n",
       "5   Urban Company   2014.0   New Delhi   Home services   \n",
       "6  Comofi Medtech   2018.0   Bangalore      HealthTech   \n",
       "7     Qube Health   2016.0      Mumbai      HealthTech   \n",
       "8        Vitra.ai   2020.0   Bangalore    Tech Startup   \n",
       "9          Taikee   2010.0      Mumbai      E-commerce   \n",
       "\n",
       "                                        What_it_does  \\\n",
       "0  Unbox Robotics builds on-demand AI-driven ware...   \n",
       "1     UpGrad is an online higher education platform.   \n",
       "2  LEAD School offers technology based school tra...   \n",
       "3  Bizongo is a business-to-business online marke...   \n",
       "4  FypMoney is Digital NEO Bank for Teenagers, em...   \n",
       "5  Urban Company (Formerly UrbanClap) is a home a...   \n",
       "6   Comofi Medtech is a healthcare robotics startup.   \n",
       "7  India's Most Respected Workplace Healthcare Ma...   \n",
       "8  Vitra.ai is an AI-based video translation plat...   \n",
       "9  Taikee is the ISO-certified, B2B e-commerce pl...   \n",
       "\n",
       "                                            Founders  \\\n",
       "0                        Pramod Ghadge, Shahid Memon   \n",
       "1  Mayank Kumar, Phalgun Kompalli, Ravijot Chugh,...   \n",
       "2                         Smita Deorah, Sumeet Mehta   \n",
       "3            Aniket Deb, Ankit Tomar, Sachin Agrawal   \n",
       "4                                      Kapil Banwari   \n",
       "5  Abhiraj Singh Bhal, Raghav Chandra, Varun Khaitan   \n",
       "6                                         Gururaj KB   \n",
       "7                                        Gagan Kapur   \n",
       "8                                     Akash Nidhi PS   \n",
       "9                 Nidhi Ramachandran, Sachin Chhabra   \n",
       "\n",
       "                                        Investor        Amount         Stage  \n",
       "0                    BEENEXT, Entrepreneur First    $1,200,000  Pre-series A  \n",
       "1       Unilazer Ventures, IIFL Asset Management  $120,000,000          None  \n",
       "2               GSV Ventures, Westbridge Capital   $30,000,000      Series D  \n",
       "3                         CDC Group, IDG Capital   $51,000,000      Series C  \n",
       "4  Liberatha Kallat, Mukesh Yadav, Dinesh Nagpal    $2,000,000          Seed  \n",
       "5                                     Vy Capital  $188,000,000          None  \n",
       "6                              CIIE.CO, KIIT-TBI      $200,000          None  \n",
       "7                      Inflection Point Ventures   Undisclosed  Pre-series A  \n",
       "8                              Inflexor Ventures   Undisclosed          None  \n",
       "9                                           None    $1,000,000          None  "
      ]
     },
     "execution_count": 69,
     "metadata": {},
     "output_type": "execute_result"
    }
   ],
   "source": [
    "data2021.head(10)"
   ]
  },
  {
   "attachments": {},
   "cell_type": "markdown",
   "metadata": {},
   "source": [
    "### Issues arising from data2021:\n",
    "\n",
    "* Founded column is a float. It has to be a date\n",
    "\n",
    "* Some Amounts have $undisclosed, Undisclosed and undisclosed. We may treat them as missing values\n",
    "\n",
    "* The Amounts and Stage for FanPlay company are interchanged\n",
    "\n",
    "* At index 242, 256, 257, and 545, the amount appears at the investor’s column and then stage at the amount column\n",
    "\n",
    "* Little Leap campany at index 538 has Ah! Ventures(investors) instead of amount and then amount at stage column. Also, ‘Holistic Development Programs for children in …; should be   replaced with Vishal Gupta as founder.\n",
    "\n",
    "* BHyve company has part of ‘what_it_does’ at founders cl then founders at investor cl and investors at amount col ……. It also had investor’s name as ITO Angel Network instead of JITO Angel Network\n",
    "\n",
    "* Some amounts are separated by ‘,’ some too have ‘$$’ preceding them and some only ‘$’ as amount…this is for EventBeep, MPL\n",
    "\n",
    "* Amount for Godamwale is misspelt as 1000000\\t#REF! instead of 1000000 and is at investor col with stage rather taking its place. Also, the investor is **Capt. Anand Aryamane**\n",
    "\n",
    "* for index 1100-Sochcast company, Heaquarter is replaced with ‘Online Media\\t#REF!’ and sector\n",
    "* There are some duplicates"
   ]
  },
  {
   "attachments": {},
   "cell_type": "markdown",
   "metadata": {},
   "source": [
    "### Resolution"
   ]
  },
  {
   "attachments": {},
   "cell_type": "markdown",
   "metadata": {},
   "source": [
    "* Delete duplicates\n",
    "* Delete rows with anomalous values\n",
    "* Impute with right values from credible sources where such values are mispelt, omitted and wrongly placed\n",
    "* Convert columns to right data types\n",
    "* Standardise the 'Stage' column for good analysis by renaming or grouping"
   ]
  },
  {
   "cell_type": "code",
   "execution_count": 70,
   "metadata": {},
   "outputs": [
    {
     "data": {
      "text/plain": [
       "19"
      ]
     },
     "execution_count": 70,
     "metadata": {},
     "output_type": "execute_result"
    }
   ],
   "source": [
    "# Confirm duplicated records\n",
    "\n",
    "data2021.duplicated().sum()"
   ]
  },
  {
   "cell_type": "markdown",
   "metadata": {},
   "source": [
    "Let's take a look, first."
   ]
  },
  {
   "cell_type": "code",
   "execution_count": 71,
   "metadata": {},
   "outputs": [
    {
     "data": {
      "text/html": [
       "<div>\n",
       "<style scoped>\n",
       "    .dataframe tbody tr th:only-of-type {\n",
       "        vertical-align: middle;\n",
       "    }\n",
       "\n",
       "    .dataframe tbody tr th {\n",
       "        vertical-align: top;\n",
       "    }\n",
       "\n",
       "    .dataframe thead th {\n",
       "        text-align: right;\n",
       "    }\n",
       "</style>\n",
       "<table border=\"1\" class=\"dataframe\">\n",
       "  <thead>\n",
       "    <tr style=\"text-align: right;\">\n",
       "      <th></th>\n",
       "      <th>Company_Brand</th>\n",
       "      <th>Founded</th>\n",
       "      <th>HeadQuarter</th>\n",
       "      <th>Sector</th>\n",
       "      <th>What_it_does</th>\n",
       "      <th>Founders</th>\n",
       "      <th>Investor</th>\n",
       "      <th>Amount</th>\n",
       "      <th>Stage</th>\n",
       "    </tr>\n",
       "  </thead>\n",
       "  <tbody>\n",
       "    <tr>\n",
       "      <th>107</th>\n",
       "      <td>Curefoods</td>\n",
       "      <td>2020.0</td>\n",
       "      <td>Bangalore</td>\n",
       "      <td>Food &amp; Beverages</td>\n",
       "      <td>Healthy &amp; nutritious foods and cold pressed ju...</td>\n",
       "      <td>Ankit Nagori</td>\n",
       "      <td>Iron Pillar, Nordstar, Binny Bansal</td>\n",
       "      <td>$13000000</td>\n",
       "      <td>None</td>\n",
       "    </tr>\n",
       "    <tr>\n",
       "      <th>109</th>\n",
       "      <td>Bewakoof</td>\n",
       "      <td>2012.0</td>\n",
       "      <td>Mumbai</td>\n",
       "      <td>Apparel &amp; Fashion</td>\n",
       "      <td>Bewakoof is a lifestyle fashion brand that mak...</td>\n",
       "      <td>Prabhkiran Singh</td>\n",
       "      <td>InvestCorp</td>\n",
       "      <td>$8000000</td>\n",
       "      <td>None</td>\n",
       "    </tr>\n",
       "    <tr>\n",
       "      <th>111</th>\n",
       "      <td>FanPlay</td>\n",
       "      <td>2020.0</td>\n",
       "      <td>Computer Games</td>\n",
       "      <td>Computer Games</td>\n",
       "      <td>A real money game app specializing in trivia g...</td>\n",
       "      <td>YC W21</td>\n",
       "      <td>Pritesh Kumar, Bharat Gupta</td>\n",
       "      <td>Upsparks</td>\n",
       "      <td>$1200000</td>\n",
       "    </tr>\n",
       "    <tr>\n",
       "      <th>117</th>\n",
       "      <td>Advantage Club</td>\n",
       "      <td>2014.0</td>\n",
       "      <td>Mumbai</td>\n",
       "      <td>HRTech</td>\n",
       "      <td>Advantage Club is India's largest employee eng...</td>\n",
       "      <td>Sourabh Deorah, Smiti Bhatt Deorah</td>\n",
       "      <td>Y Combinator, Broom Ventures, Kunal Shah</td>\n",
       "      <td>$1700000</td>\n",
       "      <td>None</td>\n",
       "    </tr>\n",
       "    <tr>\n",
       "      <th>119</th>\n",
       "      <td>Ruptok</td>\n",
       "      <td>2020.0</td>\n",
       "      <td>New Delhi</td>\n",
       "      <td>FinTech</td>\n",
       "      <td>Ruptok fintech Pvt. Ltd. is an online gold loa...</td>\n",
       "      <td>Ankur Gupta</td>\n",
       "      <td>Eclear Leasing</td>\n",
       "      <td>$1000000</td>\n",
       "      <td>None</td>\n",
       "    </tr>\n",
       "  </tbody>\n",
       "</table>\n",
       "</div>"
      ],
      "text/plain": [
       "      Company_Brand  Founded     HeadQuarter             Sector  \\\n",
       "107       Curefoods   2020.0       Bangalore   Food & Beverages   \n",
       "109        Bewakoof   2012.0          Mumbai  Apparel & Fashion   \n",
       "111         FanPlay   2020.0  Computer Games     Computer Games   \n",
       "117  Advantage Club   2014.0          Mumbai             HRTech   \n",
       "119          Ruptok   2020.0       New Delhi            FinTech   \n",
       "\n",
       "                                          What_it_does  \\\n",
       "107  Healthy & nutritious foods and cold pressed ju...   \n",
       "109  Bewakoof is a lifestyle fashion brand that mak...   \n",
       "111  A real money game app specializing in trivia g...   \n",
       "117  Advantage Club is India's largest employee eng...   \n",
       "119  Ruptok fintech Pvt. Ltd. is an online gold loa...   \n",
       "\n",
       "                               Founders  \\\n",
       "107                        Ankit Nagori   \n",
       "109                    Prabhkiran Singh   \n",
       "111                              YC W21   \n",
       "117  Sourabh Deorah, Smiti Bhatt Deorah   \n",
       "119                         Ankur Gupta   \n",
       "\n",
       "                                     Investor     Amount     Stage  \n",
       "107       Iron Pillar, Nordstar, Binny Bansal  $13000000      None  \n",
       "109                                InvestCorp   $8000000      None  \n",
       "111               Pritesh Kumar, Bharat Gupta   Upsparks  $1200000  \n",
       "117  Y Combinator, Broom Ventures, Kunal Shah   $1700000      None  \n",
       "119                            Eclear Leasing   $1000000      None  "
      ]
     },
     "execution_count": 71,
     "metadata": {},
     "output_type": "execute_result"
    }
   ],
   "source": [
    "data2021[data2021.duplicated()].head()"
   ]
  },
  {
   "cell_type": "markdown",
   "metadata": {},
   "source": [
    "Alright! They have to be on the go...!"
   ]
  },
  {
   "cell_type": "code",
   "execution_count": 72,
   "metadata": {},
   "outputs": [],
   "source": [
    "# Drop the duplicates\n",
    "\n",
    "data2021 = data2021.drop_duplicates()\n"
   ]
  },
  {
   "cell_type": "markdown",
   "metadata": {},
   "source": [
    "Checking......."
   ]
  },
  {
   "cell_type": "code",
   "execution_count": 73,
   "metadata": {},
   "outputs": [
    {
     "data": {
      "text/plain": [
       "(1190, 9)"
      ]
     },
     "execution_count": 73,
     "metadata": {},
     "output_type": "execute_result"
    }
   ],
   "source": [
    "# Check data shape before deletion\n",
    "data2021.shape"
   ]
  },
  {
   "cell_type": "markdown",
   "metadata": {},
   "source": [
    "Success!"
   ]
  },
  {
   "cell_type": "markdown",
   "metadata": {},
   "source": [
    "### Dealing with anomalous rows\n",
    "\n",
    "....taking a look first at the unique values of each column, <br> then take care of them\n",
    "\n",
    "\n",
    "### Company_Brand column"
   ]
  },
  {
   "cell_type": "code",
   "execution_count": 74,
   "metadata": {},
   "outputs": [
    {
     "name": "stdout",
     "output_type": "stream",
     "text": [
      "['Unbox Robotics', 'upGrad', 'Lead School', 'Bizongo', 'FypMoney', 'Urban Company', 'Comofi Medtech', 'Qube Health', 'Vitra.ai', 'Taikee', 'Fitterfly', 'FreeStand', 'MyDentalPlan', 'Freyr Energy', 'DealShare', 'Tessolve', 'Smart Joules', 'ORAI', 'ixamBee', 'CoinSwitch Kuber', 'Razorpay', 'Uable', 'ZFW Hospitality', 'Optimized Electrotech', 'Northern Arc', 'Chara', 'Sirona Hygiene', 'Pristyn Care', 'TrulyMadly', 'Vidyakul', 'Jambox Games', 'Miko', 'SuperK', 'TagZ Foods', 'Fuel Buddy', 'M1xchange', 'Spintly', 'EF Polymer', 'boAt', 'TruNativ', 'iBus', 'Puresh Daily', 'LearnVern', 'LimeChat', 'Dybo', 'moEVing', 'WeWork India', 'Solethreads', 'Beldara', 'CredFlow', 'Do Your Thng', 'Oye Rickshaw', 'Legitquest', 'Swiggy', 'AntWak', 'PlayShifu', 'Pitstop', 'Lendingkart', 'CRED', 'Karnival', 'PharmEasy', 'WESS', 'ShopSe', 'Fantasy Akhada', 'Rage Coffee', 'Groww', 'Avanti Finance', 'Kudos', 'OfBusiness', 'Superpro.ai', 'ShareChat', 'WiT-ACE', 'Spinny', 'Alteria Capital', 'Safexpay', 'PumPumPum', 'Speciale Invest', 'Eunimart', 'Meesho', 'CareerLabs', 'Zoko', 'GetWork', 'Easebuzz', 'Chingari', 'DusMinute', 'Onsurity', 'Karbon Card', 'Factors.AI', 'Elevar', 'Studio Sirah', 'OTO Capital', '1Bridge', 'Skeps', 'Curefoods', 'TartanSense', 'Bewakoof', 'Kirana247', 'FanPlay', 'NeoDocs', 'IsGoingOnline', 'Camp K12', 'Elda Health', 'Sporjo', 'Advantage Club', 'SuperGaming', 'Ruptok', 'O’ Be Cocktails', 'Zetwerk', 'AppsForBharat', 'Imagimake', 'Khatabook', 'Smytten', 'Syook', 'Akudo', 'NOTO', 'Lumiq', 'CommerceUp', 'Breathe Well-being', 'Hike', 'House of Kieraya', 'goEgoNetwork', 'Probus', 'DrinkPrime', 'Smart Express', 'Smallcase', 'SATYA MicroCapital', 'Snack Amor', 'Postman', 'Hashnode', 'RACEnergy', 'BharatPe', 'Gyde', 'BatteryPool', 'AgNext', 'Xpresslane', 'LoanKuber', 'OYO', 'Rapido', 'YPay', 'SleepyCat', 'Ultrahuman', 'UpScalio', 'Yellow Class', 'Yojak', 'CreatorStack', 'Expertrons', 'Klub', 'Navia Life Care', '1K Kirana Bazaar', 'Zupee', 'Locale.ai', 'VerSe Innovation', 'MetroRide', 'Whiz League', 'Hash', 'Unacademy', 'Log 9 Materials', 'FlashPrep', 'Kenko Health', 'Wiz Freight', 'Credgenics', 'BlueLearn', 'NimbleBox.ai', 'Pickrr', 'Stellaris Venture Partners', 'Grip Invest', 'Heads Up For Tails', 'Blue Tokai Coffee Roasters', 'Neeman', 'GoSats', 'StockGro', 'Khabri', 'Celcius', 'AyuRythm', 'Enguru', 'Rocket Skills', 'RenewBuy', 'Faarms', 'UrbanMatrix Technologies', 'Jupiter', 'Pixuate', 'Playo', 'Toothsi', 'Soothe Healthcare', 'Goodmeetings', 'Apnaklub', 'ChefKart', 'Fashinza', 'Fabheads', 'QuickShift', 'StackBOX', 'MedPrime Technologies', 'infra.market', 'CollegeDekho', 'BOX8', 'Simpl', '8i Ventures', 'PayGlocal', 'Curefit', 'Pocket FM', 'CHARGE+ZONE', 'PlanetSpark', 'LenDenClub', 'CometChat', 'AgroStar', 'Probus Insurance', 'MoEngage', 'CloudSEK', 'Exponent Energy', 'Trinkerr', 'Zorro', 'Ultraviolette', 'NephroPlus', 'Unremot', 'FanAnywhere', 'PingoLearn', 'Spry', 'Enmovil', 'ASQI Advisors', 'Insurance Samadhan', 'Evenflow Brands', 'MasterChow', 'Fullife Healthcare', 'MoEVing', 'Plix', 'Uni Cards', 'Practically', 'Nestasia', 'Vedic Cosmeceuticals', 'Juspay', 'TranZact', 'Atomberg', 'Ola', 'Mohalla Tech', 'Stack', 'PropReturns', 'WeSkill', 'Fitpage', 'ShopMyLooks', 'ByteLearn', 'Dista', 'FRND', 'Metadome', 'Keka HR', 'The Gourmet Jar', 'Flo Mobility', 'Yodacart', 'TheHouseMonk', 'Zepto', 'Jumbotail', 'Captain Fresh', 'Deciwood', 'Kohbee', 'Perfora', 'Ninety One', 'Gobillion', 'RIPPLR', 'SK Finance', 'Eggoz', 'Fabriclore', 'Veefin', 'Verandah', 'Karkinos Healthcare', 'OWO Technologies', 'EsportsXO', 'Zorgers', 'BangDB', 'Neobank Jupiter', 'Skippi Ice Pops', 'Glii', 'GlobalBees', 'Mamaearth', 'SecureNow', 'Vendor Infra', 'Hakuna Matata', 'OneCard', 'Doubtnut', 'Hubhopper', 'Infra.Market', 'Battery Smart', 'Kutuki', 'Onelife', 'Eupheus', 'KreditBee', 'Pencil', 'Aisle', 'Marquee Equity', 'UptimeAI', 'WizKlub', 'Zolve', 'MediBuddy', 'Pariksha', 'Express Stores', 'Avataar Ventures', 'Zingbus', 'Phable', 'Codingal', 'Supply6', 'Swajal', 'Filo', 'Method & Madness', 'EduFund', 'Pepperfry', 'Zingavita', 'Hypd Store', 'Supersourcing', 'AutomataPi', 'Newton School', 'TenderCuts', 'Siply', 'SarvaGram', 'Unlu', 'GlobalFair', 'Eduvanz', 'OwO', 'Progcap', 'ABL Workspaces', 'Nazara Technologies', 'Scentials', 'SplashLearn', 'Maya', 'GoTo', 'Remedico', 'PrepBytes', 'YourPhysio', 'Aviom Housing Finance', 'Hemp Horizons', 'MPL', 'Koo', 'InnerHour', 'Origo', 'ExMyB', 'Elucidata', 'Saveo', 'Qin1', 'DotPe', 'Taskmo', 'MasterMentors', 'KIKO TV', 'Quali55Care', 'RevFin', 'SeeVC', 'Junio', 'VenWiz', 'Vista Rooms', 'Makers Hive', 'Headfone', 'Zouk', 'GrowFix', 'Bombay Shaving Company', 'Dunzo', 'BeyondSkool', 'Mindler', 'Turnip', 'Furlenco', 'Inficold', 'KIWI', 'Digit Insurance', 'MFine', 'Udayy', 'Lohum', 'Darwinbox', 'DeHaat', 'Samunnati', 'Biconomy', 'True Elements', 'Nao Spirits & Beverages Pvt Ltd', 'PurpleTutor', 'Karkhana.io', 'SSA Finserv', 'Paperfly', 'ReadyAssist', 'Chalo', 'Udaan', 'Ergos', 'Bolkar', 'Wright Research', 'Knocksense', 'Phi Commerce', 'Oneiric Gaming', 'Finsall', 'Legalwiz.in', 'Cred', 'Devic Earth', 'Zerone', 'Pocket Aces', 'Kyt', 'iMumz', 'CropIn', 'Vanity Wagon', 'Oyo', 'Agri10x', 'BlackSoil', 'HobSpace', 'DcodeAI', 'Biocon Biologics', 'KiranaKart', 'Meddo', 'SP Robotic Works', '3SC', 'Chai Waale', 'Minimalist', 'Fixcraft', 'Slice', '90+ My Tuition App', 'Wasabi', 'Strata', 'Ourbetterplanet', 'Murf.ai', 'JetSynthesys', 'MYFITNESS', 'I am Love', 'MyGlamm', 'Gumlet', 'Eloelo', 'Edukemy', 'NewsReach', 'Pencilton', 'Bandhoo', 'ixigo', 'The Whole Truth', 'Insane AI', 'Learn4o Technology', 'Droom', 'Skymet', 'Go Swift', 'G.O.A.T', 'Keeros', 'ReDesyn', 'Inspacco', 'Knorish', 'Dozee', 'BlackBuck', 'Mailmodo', 'SuperBeings', 'NirogStreet', 'Hyreo', 'GODI Energy', 'Even', 'Otipy', 'Lenskart', 'Eka.care', 'Braingroom', 'Edvizo', 'Credenc', 'Mynvax', 'RiseBird', 'Uvi Health', 'Vegrow', 'Automovill', 'NFTically', 'HealthifyMe', 'GalaxyCard', 'Bella Vita Organic', 'SmartCoin', 'CareerNinja', 'MYSUN', 'Sea6 Energy', 'Beco', 'OneCode', 'MedPay', 'Inshorts', 'Digantara', 'Aqgromalin', 'Square Yards', 'Slang Labs', 'NirogGyan', 'Ola Electric', 'Bikry app', 'Oliveboard', 'Little Leap', 'Trell', 'Kredent', 'EasyAspataal', 'SMOOR', 'Pankhuri', 'Arcana', 'AdmitKard', 'UrbanKisaan', 'Aquaconnect', 'Vah Vah!', 'LetsDressUp', 'Sapio Analytics', 'BHyve', 'Indi Energy', 'The Ayurveda Co', 'Pratilipi', 'Ati Motors', 'peAR', 'Gourmet Garden', 'The Sleep Company', 'TyrePlex', 'ION Energy', 'FRAAZO', 'Licious', 'WinZO', 'Skylark Drones', 'Leegality', 'Arcatron Mobility', 'TWID', 'PeakPerformer', 'MyMobiForce', 'Pine Labs', 'Genworks Health', 'Pocketly', 'Neverinstall', 'CoRover', 'BeatO', 'Earth Rhythm', 'Fountain9', 'Rockclimber', 'SpEd@home', 'CanPe', 'Green Soul', 'Shiprocket', 'Teachmint', 'Vahak', 'goSTOPS', 'Codedamn', 'Biocraft Innovation Technology', 'Powerplay', 'Accio Robotics', 'Delhivery', 'Avishkaar', 'Jobsgaar', 'Almo', 'GalaxEye', 'Good Health Clinic', 'MYBYK', 'Locus', 'Crejo.Fun', 'Bambinos', 'Spardha', 'Onelife Nutriscience', 'Flatheads', 'Fable Fintech', 'Holisol', 'Now&Me', 'Fyllo', 'Cora Health', 'Blaer Motors', 'Swiflearn', 'Cashfree', 'QuickSell', 'Truemeds', 'Candes', 'F5', 'Capital Float', 'IntelleWings', 'Shyplite', 'Refyne', 'Greenjoules', 'MentorKart', 'Leverage Edu', 'Kale Logistics', 'CustomerGlu', 'Cell Propulsion', 'Wellbeing Nutrition', 'Pee Safe', 'Chqbook', 'SimpliContract', 'Dropshop', \"BYJU'S\", 'Power Gummies', 'Convosight', 'Wherehouse.io', 'Flexmoney', 'Fampay', 'Apna', 'XYXX Apparels', 'WaterScience', 'BrowserStack', 'Vital', 'Juicy chemistry', 'Samaaro', 'MSMEx', 'saarthi.ai', 'Kutumb', 'Superplum', 'Upside AI', 'PazCare', 'Answer Genomics', 'Skillmatics', 'Bimaplan', 'Bueno Finance', 'CityMall', 'BYJU’S', 'India Quotient', 'The Switch Fix', 'Anvidha Technologies', 'DigiSparsh', 'CoffeeMug.ai', 'Pathfndr.io', 'BigLeap', 'Kazam', 'MYRE Capital', 'BimaPe', 'MicroDegree', 'Saarthi Pedagogy', 'Synapsica', 'Kwik Foods', 'Plutomen', 'GoMechanic', 'Grinntech', 'Nobel Hygiene', 'Green Cure', 'Classplus', 'WINDO', 'ApnaKlub', 'LegalPay', 'Lavado', 'Navars', 'GoBolt', 'Loco', 'Auric', 'Edmingle', 'Humit', 'Airblack', 'NIRAMAI', 'Intervue', 'Nestroots', 'Detect Technologies', 'CredR', 'Fourth Partner Energy', 'TABLT', 'Hesa', 'Powerhouse91', 'Nalanda Learning', 'Chargeup', 'Knackit', 'Treebo Hotels', 'Raptee Energy', 'Supertails', 'SkilloVilla', 'Cancer Clinics', 'Velocity', 'Happy Jars', 'ExtraaEdge', 'Zotalabs', 'Voiro', 'Dream Sports', 'Safex Chemicals', 'Instoried', 'Rupifi', 'Moneyboxx', 'Janani', 'ReshaMandi', 'Homingos', 'Anar Business Community', 'Five Star Finance', 'Settlrs', 'Annapurna Finance', 'HealthPlix', 'Masai School', 'IndiaLends', 'Stelis Biopharma', 'Tilt', 'NeoDove', 'Zaara Biotech', 'True Balance', 'Muvin', 'Purplle', 'FloBiz', 'Jeevam Health', 'NewLink Group', 'OZiva', 'Blive', 'Euler Motors', 'Pixxel', 'Prescinto', 'Chirrup', 'Policybazaar', 'Livve Homes', 'Juicy Chemistry', 'Svasti Microfinance', 'Nexprt', 'Wysa', 'Ankur capital', 'Indifi', 'Firmway', 'Say Cheese', 'Indic Inspirations', 'YAP', 'Leap Finance', 'BlackSoil NBFC', 'Max Healthcare', '4baseCare', 'Ezstays', 'Stylework', 'Kinara Capital', 'Riskcovry', 'NODWIN', 'Quizizz', 'Ecom Express', 'Turtlemint', 'Qoohoo', 'IGL', 'AMPM', 'The ePlane', 'Cashify', 'Bijnis', 'Questt', 'Blume Ventures', 'KoineArth', 'ImaginXP', 'Virohan', 'Apna.co', 'ideaForge', 'Clairco', 'ParkSmart', 'BankSathi', 'Spark Studio', 'BlissClub', 'BricSpaces', 'ANSR', 'Keito', 'Reccy Adventures', 'Magenta EV', 'Agnikul', 'Glamplus', 'Tekie', 'Asirvad Microfinance', 'Avalon Labs', 'Betterhalf.ai', 'Rezo.ai', 'Mentoria', 'Cuvette Tech', 'Clensta', 'FarMart', 'Kodo Card', 'Polygon', 'Get My Parking', 'Cellestial', 'FanCode', 'Jai Kisan', 'Plum', 'ThatMate', 'Klassroom', 'Convin', 'Mensa Brands', 'Disruptium', 'MedTel Healthcare', 'Pickright Technologies', 'Ingenium', 'RuleZero', 'Rubix Data Sciences', 'Locobuzz', 'We Founder Circle', 'Haqdarshak', 'Enthu.ai', 'Myelin Foundry', 'SuperOps.ai', '6Degree', 'Sarathi', 'Jidoka Technologies', 'ElasticRun', 'Avail Finance', 'Nivesh', 'Thingsup', 'Arthya Wealth and Investments', 'Fi', 'Kiko Live', 'TurboHire', 'The Hosteller', 'SatSure', 'Ruptok Fintech', 'VilCart', 'Dogsee Chew', 'TRDR', 'Zoomcar', 'Leap India', 'SuperBottoms', 'The Good Glamm Group', 'Mosaic Wellness', 'CloudFiles', 'The Viral Fever', 'Xpand', 'Troo Good', 'Prodo', 'Unnati', 'Lysto', 'Wakefit', 'Buyofuel', 'ElectricPe', 'Vayana Network', 'Valuationary', 'Petpooja', 'Wingreens Farms', 'Doola', 'EyeMyEye', 'Bombay Hemp Company', 'DGV', 'GuardianLink', 'Clinikk', 'Toplyne', 'Mensa', 'GENLEAP', 'Planys', 'Wonderchef', 'GoKwik', 'SalaryBox', 'Boingg', 'Better Capital', 'Tickertape', 'Zenpay Solutions', 'Disprz', 'Arbo Works', 'Inzpira', 'Defy', 'Mindhouse', 'Homversity', 'Toppersnotes', 'NoBroker.com', 'Haber', 'Recordent', 'Koparo', 'Settl', 'Park+', 'Simple Energy', 'Rentomojo', '21K School', 'Adda247', 'Loop Health', 'RENEE Cosmetics', 'Svish', 'Smartstaff', 'D’Moksha Homes', 'ANS Commerce', 'Mobileware Technologies', 'GramCover', 'Hyperface', 'Kaar Technologies', 'Kissan Pro', 'Sunstone Eduversity', 'Ozonetel', 'Pazcare', 'kWh Bikes', 'IBSFINtech', 'LeadSquared', 'Phool.co', 'Twin Health', 'Trica', 'mHealth', 'Rebel Foods', 'ProfitWheel', 'Ishitva', 'leap.club', 'ForeignAdmits', 'SALT', 'EarnWealth', 'Visit Health', 'Crater.Club', 'Hubilo', 'M2P Fintech', 'Open Financial Technologies', 'Niro', 'Wiingy', 'CarDekho', 'Melorra', 'AnKa SumMor', 'Toch.ai', 'Playto Labs', 'Fraazo', 'FloCareer', 'Nap Chief', 'AcknoLedger', 'ApplicateAI', 'VLCC Health Care', 'Duroflex', 'Aviom India', 'Onato', 'Mestastop Solutions', 'SaaS Labs', 'Devnagri', 'ConveGenius', 'Totality', 'CredAble', 'MarketWolf', 'Wondrlab', 'SUN Mobility', 'Tamasha', 'Revfin', 'Yu Foodlabs', 'MergerDomo', 'IDfy', 'ClearDekho', 'BookingJini', 'Sourcewiz', 'Tvasta', 'Kafqa Academy', 'Storia', 'Clear', 'The Indus Valley', 'Porter', 'O4S', 'Wobb', 'BASIC Home Loan', 'Gramophone', 'Healofy', 'E42', 'Spottabl', 'Shumee', 'SportZchain', 'Hypto', 'CHUPPS', 'Zenduty', 'R for Rabbit', 'Acko', 'LoveLocal', 'SupplyNote', 'Vakilsearch', 'Cloudphysician', 'Wiggles.in', 'Wallmantra', 'Aquatein', 'Mentza', 'ConnectedH', 'CredAvenue', 'Vedantu', 'Exotel', 'Cusmat', 'Homeville', 'Coinshift', 'Strip Finance', 'Kolo', 'My3DSelfie', 'EV Plugs', 'Rulezero', 'CredRight', 'Auntie Fung', 'ePayLater', 'Fittr', 'Medikabazaar', 'Nimble Growth Organics', 'Sanctum Wealth', '88academics', 'Upgame', 'Sanfe', 'PredictiVu', 'Sterling Accuris Wellness', 'Manch Technologies', 'Sochcast', 'Glamyo Health', 'CashBook', 'The Money Club', 'SuperZop', 'Zypp Electric', 'Alpha Coach', 'VRO Hospitality', 'byteXL', 'Leena AI', 'CARS24', 'Bluepad', 'Tummoc', 'Design Cafe', 'PayCardo', 'Aerchain', 'CuriousJr', 'Wow! Momo', 'LifeCell', 'ZestMoney', 'FrontRow', 'HappyCredit', 'Endimension', 'Frenzi', 'BeepKart', 'Lio', 'TravClan', 'WickedGud', 'Enercomp', 'BetterPlace', 'Medpho', 'LivQuik Technology', 'EventBeep', 'GTM Buddy', 'Gobbly', 'HexaHealth', 'Eupheus Learning', 'Easiloan', 'Anar', 'Shadez', 'Vahan', 'Tinkerly', 'Godamwale', 'Artium Academy', 'Awon GameZ', 'Ayu Health', 'BharatAgri', 'Boutique Spirit Brands', 'eShipz', 'Paytail', '4Fin', 'Atomberg Technologies', 'Genext Students', 'immunitoAI', 'GameEon Studios', 'Farmers Fresh Zone', 'Anveshan', 'OckyPocky', 'Coutloot', 'Nova Benefits', 'HomeLane', 'Lido Learning', 'Jar', 'Peppermint', 'moneyHOP', 'Skit', 'Peak', 'REVOS', 'Dezerv.', 'Habbit', 'Bikayi', 'Sugar.fit', 'Dukaan', 'Goodmylk', 'Fieldproxy', 'NeuroPixel.AI', 'Elixia Tech Solutions', 'bitsCrunch', 'Prolgae', 'Biddano', 'Geniemode', 'Neokred', 'Flipspaces', 'Fleek', 'Proeon', 'InfyU Labs', 'TechEagle', 'Voxelgrids', 'Cogos Technologies', 'Gigforce', 'Vahdam', 'WeRize']\n"
     ]
    }
   ],
   "source": [
    "# Get unique values of the comapany_brand column\n",
    "\n",
    "print(data2021['Company_Brand'].unique().tolist())\n"
   ]
  },
  {
   "cell_type": "markdown",
   "metadata": {},
   "source": [
    "Same company name was treated as separate identities: BYJU’S and  BYJU'S. <br>This might be due to the different apostrophies used.\n",
    "\n",
    "........let's check!"
   ]
  },
  {
   "cell_type": "code",
   "execution_count": 75,
   "metadata": {},
   "outputs": [
    {
     "data": {
      "text/plain": [
       "False"
      ]
     },
     "execution_count": 75,
     "metadata": {},
     "output_type": "execute_result"
    }
   ],
   "source": [
    "# Check if they are same\n",
    "\n",
    "\"BYJU'S\" ==  'BYJU’S'\n"
   ]
  },
  {
   "cell_type": "code",
   "execution_count": 76,
   "metadata": {},
   "outputs": [],
   "source": [
    "# Good! Now we correct that and that's all for company_Brand\n",
    "\n",
    "data2021['Company_Brand'] = data2021['Company_Brand'].str.replace(\"’\", \"'\")"
   ]
  },
  {
   "cell_type": "code",
   "execution_count": 77,
   "metadata": {},
   "outputs": [
    {
     "data": {
      "text/plain": [
       "1032"
      ]
     },
     "execution_count": 77,
     "metadata": {},
     "output_type": "execute_result"
    }
   ],
   "source": [
    "data2021['Company_Brand'].nunique()"
   ]
  },
  {
   "cell_type": "markdown",
   "metadata": {},
   "source": [
    "Good! Worked! Now, let's head to Headquarter"
   ]
  },
  {
   "cell_type": "code",
   "execution_count": 78,
   "metadata": {},
   "outputs": [
    {
     "name": "stdout",
     "output_type": "stream",
     "text": [
      "<class 'pandas.core.series.Series'>\n",
      "Int64Index: 1190 entries, 0 to 1208\n",
      "Series name: HeadQuarter\n",
      "Non-Null Count  Dtype \n",
      "--------------  ----- \n",
      "1189 non-null   object\n",
      "dtypes: object(1)\n",
      "memory usage: 18.6+ KB\n",
      "None\n",
      "70\n",
      "['Bangalore' 'Mumbai' 'Gurugram' 'New Delhi' 'Hyderabad' 'Jaipur'\n",
      " 'Ahmadabad' 'Chennai' None 'Small Towns, Andhra Pradesh' 'Goa'\n",
      " 'Rajsamand' 'Ranchi' 'Faridabad, Haryana' 'Gujarat' 'Pune' 'Thane'\n",
      " 'Computer Games' 'Cochin' 'Noida' 'Chandigarh' 'Gurgaon' 'Vadodara'\n",
      " 'Food & Beverages' 'Pharmaceuticals\\t#REF!' 'Gurugram\\t#REF!' 'Kolkata'\n",
      " 'Ahmedabad' 'Mohali' 'Haryana' 'Indore' 'Powai' 'Ghaziabad' 'Nagpur'\n",
      " 'West Bengal' 'Patna' 'Samsitpur' 'Lucknow' 'Telangana' 'Silvassa'\n",
      " 'Thiruvananthapuram' 'Faridabad' 'Roorkee' 'Ambernath' 'Panchkula'\n",
      " 'Surat' 'Coimbatore' 'Andheri' 'Mangalore' 'Telugana' 'Bhubaneswar'\n",
      " 'Kottayam' 'Beijing' 'Panaji' 'Satara' 'Orissia' 'Jodhpur' 'New York'\n",
      " 'Santra' 'Mountain View, CA' 'Trivandrum' 'Jharkhand' 'Kanpur' 'Bhilwara'\n",
      " 'Guwahati' 'Online Media\\t#REF!' 'Kochi' 'London'\n",
      " 'Information Technology & Services' 'The Nilgiris' 'Gandhinagar']\n"
     ]
    }
   ],
   "source": [
    "# Get summary info, number of unique values and the values of the 'HeadQuarter' column\n",
    "\n",
    "print(data2021['HeadQuarter'].info())\n",
    "print(data2021['HeadQuarter'].nunique())\n",
    "print(data2021['HeadQuarter'].unique())"
   ]
  },
  {
   "cell_type": "markdown",
   "metadata": {},
   "source": [
    "There sure have been wrong placement for 'Information Technology & Services' and  'Food & Beverages' <br>\n",
    "Let's check that out!"
   ]
  },
  {
   "cell_type": "code",
   "execution_count": 79,
   "metadata": {},
   "outputs": [
    {
     "data": {
      "text/html": [
       "<div>\n",
       "<style scoped>\n",
       "    .dataframe tbody tr th:only-of-type {\n",
       "        vertical-align: middle;\n",
       "    }\n",
       "\n",
       "    .dataframe tbody tr th {\n",
       "        vertical-align: top;\n",
       "    }\n",
       "\n",
       "    .dataframe thead th {\n",
       "        text-align: right;\n",
       "    }\n",
       "</style>\n",
       "<table border=\"1\" class=\"dataframe\">\n",
       "  <thead>\n",
       "    <tr style=\"text-align: right;\">\n",
       "      <th></th>\n",
       "      <th>Company_Brand</th>\n",
       "      <th>Founded</th>\n",
       "      <th>HeadQuarter</th>\n",
       "      <th>Sector</th>\n",
       "      <th>What_it_does</th>\n",
       "      <th>Founders</th>\n",
       "      <th>Investor</th>\n",
       "      <th>Amount</th>\n",
       "      <th>Stage</th>\n",
       "    </tr>\n",
       "  </thead>\n",
       "  <tbody>\n",
       "    <tr>\n",
       "      <th>241</th>\n",
       "      <td>MasterChow</td>\n",
       "      <td>2020.0</td>\n",
       "      <td>Food &amp; Beverages</td>\n",
       "      <td>Hauz Khas</td>\n",
       "      <td>A ready-to-cook Asian cuisine brand</td>\n",
       "      <td>Vidur Kataria, Sidhanth Madan</td>\n",
       "      <td>WEH Ventures</td>\n",
       "      <td>$461000</td>\n",
       "      <td>Seed</td>\n",
       "    </tr>\n",
       "  </tbody>\n",
       "</table>\n",
       "</div>"
      ],
      "text/plain": [
       "    Company_Brand  Founded       HeadQuarter     Sector  \\\n",
       "241    MasterChow   2020.0  Food & Beverages  Hauz Khas   \n",
       "\n",
       "                            What_it_does                       Founders  \\\n",
       "241  A ready-to-cook Asian cuisine brand  Vidur Kataria, Sidhanth Madan   \n",
       "\n",
       "         Investor   Amount Stage  \n",
       "241  WEH Ventures  $461000  Seed  "
      ]
     },
     "execution_count": 79,
     "metadata": {},
     "output_type": "execute_result"
    }
   ],
   "source": [
    "# Checking .....\n",
    "\n",
    "data2021[data2021['HeadQuarter'] == 'Food & Beverages']"
   ]
  },
  {
   "cell_type": "code",
   "execution_count": 80,
   "metadata": {},
   "outputs": [],
   "source": [
    "# Placing them correctly for MasterChow\n",
    "\n",
    "data2021.iloc[236, 2] = 'New Delhi'\n",
    "data2021.iloc[236, 3] = 'Food & Beverages'"
   ]
  },
  {
   "cell_type": "code",
   "execution_count": 81,
   "metadata": {},
   "outputs": [
    {
     "data": {
      "text/html": [
       "<div>\n",
       "<style scoped>\n",
       "    .dataframe tbody tr th:only-of-type {\n",
       "        vertical-align: middle;\n",
       "    }\n",
       "\n",
       "    .dataframe tbody tr th {\n",
       "        vertical-align: top;\n",
       "    }\n",
       "\n",
       "    .dataframe thead th {\n",
       "        text-align: right;\n",
       "    }\n",
       "</style>\n",
       "<table border=\"1\" class=\"dataframe\">\n",
       "  <thead>\n",
       "    <tr style=\"text-align: right;\">\n",
       "      <th></th>\n",
       "      <th>Company_Brand</th>\n",
       "      <th>Founded</th>\n",
       "      <th>HeadQuarter</th>\n",
       "      <th>Sector</th>\n",
       "      <th>What_it_does</th>\n",
       "      <th>Founders</th>\n",
       "      <th>Investor</th>\n",
       "      <th>Amount</th>\n",
       "      <th>Stage</th>\n",
       "    </tr>\n",
       "  </thead>\n",
       "  <tbody>\n",
       "  </tbody>\n",
       "</table>\n",
       "</div>"
      ],
      "text/plain": [
       "Empty DataFrame\n",
       "Columns: [Company_Brand, Founded, HeadQuarter, Sector, What_it_does, Founders, Investor, Amount, Stage]\n",
       "Index: []"
      ]
     },
     "execution_count": 81,
     "metadata": {},
     "output_type": "execute_result"
    }
   ],
   "source": [
    "# Checking .....\n",
    "\n",
    "data2021[data2021['HeadQuarter'] == 'Food & Beverages']"
   ]
  },
  {
   "cell_type": "code",
   "execution_count": 82,
   "metadata": {},
   "outputs": [
    {
     "data": {
      "text/html": [
       "<div>\n",
       "<style scoped>\n",
       "    .dataframe tbody tr th:only-of-type {\n",
       "        vertical-align: middle;\n",
       "    }\n",
       "\n",
       "    .dataframe tbody tr th {\n",
       "        vertical-align: top;\n",
       "    }\n",
       "\n",
       "    .dataframe thead th {\n",
       "        text-align: right;\n",
       "    }\n",
       "</style>\n",
       "<table border=\"1\" class=\"dataframe\">\n",
       "  <thead>\n",
       "    <tr style=\"text-align: right;\">\n",
       "      <th></th>\n",
       "      <th>Company_Brand</th>\n",
       "      <th>Founded</th>\n",
       "      <th>HeadQuarter</th>\n",
       "      <th>Sector</th>\n",
       "      <th>What_it_does</th>\n",
       "      <th>Founders</th>\n",
       "      <th>Investor</th>\n",
       "      <th>Amount</th>\n",
       "      <th>Stage</th>\n",
       "    </tr>\n",
       "  </thead>\n",
       "  <tbody>\n",
       "    <tr>\n",
       "      <th>1176</th>\n",
       "      <td>Peak</td>\n",
       "      <td>2014.0</td>\n",
       "      <td>Information Technology &amp; Services</td>\n",
       "      <td>Manchester, Greater Manchester</td>\n",
       "      <td>Peak helps the world's smartest companies put ...</td>\n",
       "      <td>Atul Sharma</td>\n",
       "      <td>SoftBank Vision Fund 2</td>\n",
       "      <td>$75000000</td>\n",
       "      <td>Series C</td>\n",
       "    </tr>\n",
       "  </tbody>\n",
       "</table>\n",
       "</div>"
      ],
      "text/plain": [
       "     Company_Brand  Founded                        HeadQuarter  \\\n",
       "1176          Peak   2014.0  Information Technology & Services   \n",
       "\n",
       "                              Sector  \\\n",
       "1176  Manchester, Greater Manchester   \n",
       "\n",
       "                                           What_it_does     Founders  \\\n",
       "1176  Peak helps the world's smartest companies put ...  Atul Sharma   \n",
       "\n",
       "                    Investor     Amount     Stage  \n",
       "1176  SoftBank Vision Fund 2  $75000000  Series C  "
      ]
     },
     "execution_count": 82,
     "metadata": {},
     "output_type": "execute_result"
    }
   ],
   "source": [
    "# Checking for Peak\n",
    "\n",
    "data2021[data2021['HeadQuarter'] == 'Information Technology & Services']"
   ]
  },
  {
   "cell_type": "code",
   "execution_count": 83,
   "metadata": {},
   "outputs": [],
   "source": [
    "# Placing them correctly\n",
    "\n",
    "data2021.iloc[1149, 2] = 'Manchester'\n",
    "data2021.iloc[1149, 3] = 'Information Technology & Services'\n",
    "\n",
    "data2021.at[1176, 'HeadQuarter'] = 'Manchester'\n",
    "data2021.at[1176, 'Sector'] = 'Information Technology & Services'"
   ]
  },
  {
   "cell_type": "code",
   "execution_count": 84,
   "metadata": {},
   "outputs": [
    {
     "data": {
      "text/html": [
       "<div>\n",
       "<style scoped>\n",
       "    .dataframe tbody tr th:only-of-type {\n",
       "        vertical-align: middle;\n",
       "    }\n",
       "\n",
       "    .dataframe tbody tr th {\n",
       "        vertical-align: top;\n",
       "    }\n",
       "\n",
       "    .dataframe thead th {\n",
       "        text-align: right;\n",
       "    }\n",
       "</style>\n",
       "<table border=\"1\" class=\"dataframe\">\n",
       "  <thead>\n",
       "    <tr style=\"text-align: right;\">\n",
       "      <th></th>\n",
       "      <th>Company_Brand</th>\n",
       "      <th>Founded</th>\n",
       "      <th>HeadQuarter</th>\n",
       "      <th>Sector</th>\n",
       "      <th>What_it_does</th>\n",
       "      <th>Founders</th>\n",
       "      <th>Investor</th>\n",
       "      <th>Amount</th>\n",
       "      <th>Stage</th>\n",
       "    </tr>\n",
       "  </thead>\n",
       "  <tbody>\n",
       "  </tbody>\n",
       "</table>\n",
       "</div>"
      ],
      "text/plain": [
       "Empty DataFrame\n",
       "Columns: [Company_Brand, Founded, HeadQuarter, Sector, What_it_does, Founders, Investor, Amount, Stage]\n",
       "Index: []"
      ]
     },
     "execution_count": 84,
     "metadata": {},
     "output_type": "execute_result"
    }
   ],
   "source": [
    "# Checking ......\n",
    "\n",
    "data2021[data2021['HeadQuarter'] == 'Information Technology & Services']\n"
   ]
  },
  {
   "cell_type": "markdown",
   "metadata": {},
   "source": [
    "Alright! Let's continue dealing with some anomalous rows"
   ]
  },
  {
   "attachments": {},
   "cell_type": "markdown",
   "metadata": {},
   "source": [
    "Deleting rows with anomalous values\n"
   ]
  },
  {
   "cell_type": "code",
   "execution_count": 85,
   "metadata": {},
   "outputs": [],
   "source": [
    "# Function to drop anomalous rows\n",
    "\n",
    "\n",
    "def drop_rows_by_column_values(dataframe, column_name, value):\n",
    "    \"\"\"\n",
    "    Drops rows from the specified DataFrame based on a specific column value.\n",
    "\n",
    "    Parameters:\n",
    "        dataframe (pandas.DataFrame): The DataFrame to modify.\n",
    "        column_name (str): The name of the column to check for the specified value.\n",
    "        value: The value to match and drop rows based on the specified column.\n",
    "\n",
    "    Returns:\n",
    "        None\n",
    "\n",
    "    Description:\n",
    "        This function removes rows from the specified DataFrame where the specified column\n",
    "        matches the provided value. The rows are dropped in-place, modifying the DataFrame directly.\n",
    "\n",
    "        Parameters:\n",
    "        - dataframe (pandas.DataFrame): The DataFrame to modify.\n",
    "        - column_name (str): The name of the column to check for the specified value.\n",
    "        - value: The value to match and drop rows based on the specified column.\n",
    "\n",
    "        Returns:\n",
    "        - None\n",
    "\n",
    "        Example usage:\n",
    "        drop_rows_by_column_value(data2021, 'Company_Brand', 'BrandXYZ')\n",
    "\n",
    "        This example will drop all rows from the 'data2021' DataFrame where the 'Company_Brand'\n",
    "        column contains the value 'BrandXYZ'.\n",
    "    \"\"\"\n",
    "    dataframe.drop(dataframe[dataframe[column_name].isin(value)].index, inplace=True)"
   ]
  },
  {
   "cell_type": "code",
   "execution_count": 86,
   "metadata": {},
   "outputs": [],
   "source": [
    "# Invoke function to drop the list of rows\n",
    "\n",
    "drop_rows_by_column_values(data2021, 'Company_Brand', ['Little Leap', 'Godamwale', \\\n",
    "        'Sochcast', 'BHyve', 'Fullife Healthcare', 'MoEVing', 'AdmitKard', 'MYRE Capital'])\n"
   ]
  },
  {
   "cell_type": "code",
   "execution_count": 87,
   "metadata": {},
   "outputs": [
    {
     "data": {
      "text/plain": [
       "(1182, 9)"
      ]
     },
     "execution_count": 87,
     "metadata": {},
     "output_type": "execute_result"
    }
   ],
   "source": [
    "# Making sure the rows were deleted\n",
    "\n",
    "data2021.shape"
   ]
  },
  {
   "cell_type": "code",
   "execution_count": 88,
   "metadata": {},
   "outputs": [],
   "source": [
    "# Re-arrange indices for the data frame\n",
    "\n",
    "data2021.reset_index(drop=True, inplace=True)"
   ]
  },
  {
   "cell_type": "code",
   "execution_count": 89,
   "metadata": {},
   "outputs": [
    {
     "data": {
      "text/html": [
       "<div>\n",
       "<style scoped>\n",
       "    .dataframe tbody tr th:only-of-type {\n",
       "        vertical-align: middle;\n",
       "    }\n",
       "\n",
       "    .dataframe tbody tr th {\n",
       "        vertical-align: top;\n",
       "    }\n",
       "\n",
       "    .dataframe thead th {\n",
       "        text-align: right;\n",
       "    }\n",
       "</style>\n",
       "<table border=\"1\" class=\"dataframe\">\n",
       "  <thead>\n",
       "    <tr style=\"text-align: right;\">\n",
       "      <th></th>\n",
       "      <th>Company_Brand</th>\n",
       "      <th>Founded</th>\n",
       "      <th>HeadQuarter</th>\n",
       "      <th>Sector</th>\n",
       "      <th>What_it_does</th>\n",
       "      <th>Founders</th>\n",
       "      <th>Investor</th>\n",
       "      <th>Amount</th>\n",
       "      <th>Stage</th>\n",
       "    </tr>\n",
       "  </thead>\n",
       "  <tbody>\n",
       "    <tr>\n",
       "      <th>1177</th>\n",
       "      <td>Gigforce</td>\n",
       "      <td>2019.0</td>\n",
       "      <td>Gurugram</td>\n",
       "      <td>Staffing &amp; Recruiting</td>\n",
       "      <td>A gig/on-demand staffing company.</td>\n",
       "      <td>Chirag Mittal, Anirudh Syal</td>\n",
       "      <td>Endiya Partners</td>\n",
       "      <td>$3000000</td>\n",
       "      <td>Pre-series A</td>\n",
       "    </tr>\n",
       "    <tr>\n",
       "      <th>1178</th>\n",
       "      <td>Vahdam</td>\n",
       "      <td>2015.0</td>\n",
       "      <td>New Delhi</td>\n",
       "      <td>Food &amp; Beverages</td>\n",
       "      <td>VAHDAM is among the world’s first vertically i...</td>\n",
       "      <td>Bala Sarda</td>\n",
       "      <td>IIFL AMC</td>\n",
       "      <td>$20000000</td>\n",
       "      <td>Series D</td>\n",
       "    </tr>\n",
       "    <tr>\n",
       "      <th>1179</th>\n",
       "      <td>Leap Finance</td>\n",
       "      <td>2019.0</td>\n",
       "      <td>Bangalore</td>\n",
       "      <td>Financial Services</td>\n",
       "      <td>International education loans for high potenti...</td>\n",
       "      <td>Arnav Kumar, Vaibhav Singh</td>\n",
       "      <td>Owl Ventures</td>\n",
       "      <td>$55000000</td>\n",
       "      <td>Series C</td>\n",
       "    </tr>\n",
       "    <tr>\n",
       "      <th>1180</th>\n",
       "      <td>CollegeDekho</td>\n",
       "      <td>2015.0</td>\n",
       "      <td>Gurugram</td>\n",
       "      <td>EdTech</td>\n",
       "      <td>Collegedekho.com is Student’s Partner, Friend ...</td>\n",
       "      <td>Ruchir Arora</td>\n",
       "      <td>Winter Capital, ETS, Man Capital</td>\n",
       "      <td>$26000000</td>\n",
       "      <td>Series B</td>\n",
       "    </tr>\n",
       "    <tr>\n",
       "      <th>1181</th>\n",
       "      <td>WeRize</td>\n",
       "      <td>2019.0</td>\n",
       "      <td>Bangalore</td>\n",
       "      <td>Financial Services</td>\n",
       "      <td>India’s first socially distributed full stack ...</td>\n",
       "      <td>Vishal Chopra, Himanshu Gupta</td>\n",
       "      <td>3one4 Capital, Kalaari Capital</td>\n",
       "      <td>$8000000</td>\n",
       "      <td>Series A</td>\n",
       "    </tr>\n",
       "  </tbody>\n",
       "</table>\n",
       "</div>"
      ],
      "text/plain": [
       "     Company_Brand  Founded HeadQuarter                 Sector  \\\n",
       "1177      Gigforce   2019.0    Gurugram  Staffing & Recruiting   \n",
       "1178        Vahdam   2015.0   New Delhi       Food & Beverages   \n",
       "1179  Leap Finance   2019.0   Bangalore     Financial Services   \n",
       "1180  CollegeDekho   2015.0    Gurugram                 EdTech   \n",
       "1181        WeRize   2019.0   Bangalore     Financial Services   \n",
       "\n",
       "                                           What_it_does  \\\n",
       "1177                  A gig/on-demand staffing company.   \n",
       "1178  VAHDAM is among the world’s first vertically i...   \n",
       "1179  International education loans for high potenti...   \n",
       "1180  Collegedekho.com is Student’s Partner, Friend ...   \n",
       "1181  India’s first socially distributed full stack ...   \n",
       "\n",
       "                           Founders                          Investor  \\\n",
       "1177    Chirag Mittal, Anirudh Syal                   Endiya Partners   \n",
       "1178                     Bala Sarda                          IIFL AMC   \n",
       "1179     Arnav Kumar, Vaibhav Singh                      Owl Ventures   \n",
       "1180                   Ruchir Arora  Winter Capital, ETS, Man Capital   \n",
       "1181  Vishal Chopra, Himanshu Gupta    3one4 Capital, Kalaari Capital   \n",
       "\n",
       "         Amount         Stage  \n",
       "1177   $3000000  Pre-series A  \n",
       "1178  $20000000      Series D  \n",
       "1179  $55000000      Series C  \n",
       "1180  $26000000      Series B  \n",
       "1181   $8000000      Series A  "
      ]
     },
     "execution_count": 89,
     "metadata": {},
     "output_type": "execute_result"
    }
   ],
   "source": [
    "# Check for re-indexing\n",
    "\n",
    "data2021.tail()"
   ]
  },
  {
   "attachments": {},
   "cell_type": "markdown",
   "metadata": {},
   "source": [
    "### Dealing with the 'Founded' Col"
   ]
  },
  {
   "cell_type": "code",
   "execution_count": 90,
   "metadata": {},
   "outputs": [],
   "source": [
    "# Imputing missing values\n",
    "\n",
    "array = data2021['Founded'].values.reshape(-1,1)\n",
    "imputer = SimpleImputer(strategy='most_frequent')\n",
    "\n",
    "data2021['Founded'] = imputer.fit_transform(array)"
   ]
  },
  {
   "cell_type": "code",
   "execution_count": 91,
   "metadata": {},
   "outputs": [
    {
     "data": {
      "text/plain": [
       "array([2019., 2015., 2012., 2021., 2014., 2018., 2016., 2020., 2010.,\n",
       "       2017., 1993., 2008., 2013., 1999., 1989., 2011., 2009., 2002.,\n",
       "       1994., 2006., 2000., 2007., 1978., 2003., 1998., 1991., 1984.,\n",
       "       2004., 2005., 1963.])"
      ]
     },
     "execution_count": 91,
     "metadata": {},
     "output_type": "execute_result"
    }
   ],
   "source": [
    "data2021['Founded'].unique()"
   ]
  },
  {
   "attachments": {},
   "cell_type": "markdown",
   "metadata": {},
   "source": [
    "Converting 'Founded' from float to int64"
   ]
  },
  {
   "cell_type": "code",
   "execution_count": 92,
   "metadata": {},
   "outputs": [
    {
     "data": {
      "text/plain": [
       "0    2019\n",
       "1    2015\n",
       "2    2012\n",
       "3    2015\n",
       "4    2021\n",
       "Name: Founded, dtype: int32"
      ]
     },
     "execution_count": 92,
     "metadata": {},
     "output_type": "execute_result"
    }
   ],
   "source": [
    "# Founded column converted to int\n",
    "\n",
    "data2021['Founded'] = data2021['Founded'].astype(int)\n",
    "data2021['Founded'].head()"
   ]
  },
  {
   "cell_type": "code",
   "execution_count": 93,
   "metadata": {},
   "outputs": [
    {
     "data": {
      "text/plain": [
       "dtype('int32')"
      ]
     },
     "execution_count": 93,
     "metadata": {},
     "output_type": "execute_result"
    }
   ],
   "source": [
    "# Making sure the conversion was done\n",
    "\n",
    "data2021['Founded'].dtype"
   ]
  },
  {
   "cell_type": "code",
   "execution_count": 94,
   "metadata": {},
   "outputs": [
    {
     "data": {
      "text/plain": [
       "array([2019, 2015, 2012, 2021, 2014, 2018, 2016, 2020, 2010, 2017, 1993,\n",
       "       2008, 2013, 1999, 1989, 2011, 2009, 2002, 1994, 2006, 2000, 2007,\n",
       "       1978, 2003, 1998, 1991, 1984, 2004, 2005, 1963])"
      ]
     },
     "execution_count": 94,
     "metadata": {},
     "output_type": "execute_result"
    }
   ],
   "source": [
    "# Get unique values\n",
    "\n",
    "data2021['Founded'].unique()"
   ]
  },
  {
   "attachments": {},
   "cell_type": "markdown",
   "metadata": {},
   "source": [
    "### Cleaning the 'Amount' col"
   ]
  },
  {
   "cell_type": "code",
   "execution_count": 95,
   "metadata": {},
   "outputs": [],
   "source": [
    "# Drop additional rows with anomalous values at the Amount col\n",
    "\n",
    "drop_rows_by_column_values(data2021, 'Amount', ['Upsparks', 'JITO Angel Network, LetsVenture'])"
   ]
  },
  {
   "attachments": {},
   "cell_type": "markdown",
   "metadata": {},
   "source": [
    "Replacing undisclosed/$undisclosed/$Undisclosed values under the 'Amounts' Column"
   ]
  },
  {
   "cell_type": "code",
   "execution_count": 96,
   "metadata": {},
   "outputs": [],
   "source": [
    "# Function to replace anomalous amount values with np.nan\n",
    "\n",
    "def replace_values_with_nan(df, column_name, values_to_replace):\n",
    "    \"\"\"\n",
    "    Replaces specified values in a column of a DataFrame with np.nan.\n",
    "\n",
    "    Args:\n",
    "        df (pandas.DataFrame): The DataFrame containing the column to modify.\n",
    "        column_name (str): The name of the column to replace values in.\n",
    "        values_to_replace (list or scalar): The value(s) to replace with np.nan. Can be a single value or a list of values.\n",
    "\n",
    "    Returns:\n",
    "        pandas.DataFrame: A modified DataFrame with the specified values replaced by np.nan.\n",
    "\n",
    "    Example:\n",
    "        # Create a sample DataFrame\n",
    "        data = {\n",
    "            'Column1': [1, 2, 3, 4, 5],\n",
    "            'Column2': ['A', 'B', 'C', 'D', 'E'],\n",
    "            'Column3': ['X', 'Y', 'Z', 'X', 'Z']\n",
    "        }\n",
    "\n",
    "        df = pd.DataFrame(data)\n",
    "\n",
    "        # Define the column name and values to replace with np.nan\n",
    "        column_name = 'Column3'\n",
    "        values_to_replace = ['X', 'Z']\n",
    "\n",
    "        # Call the replace_values_with_nan function\n",
    "        df_modified = replace_values_with_nan(df, column_name, values_to_replace)\n",
    "\n",
    "        # Print the modified DataFrame\n",
    "        print(df_modified)\n",
    "    \"\"\"\n",
    "    df[column_name] = df[column_name].replace(values_to_replace, np.nan)\n",
    "    return df\n"
   ]
  },
  {
   "cell_type": "code",
   "execution_count": 97,
   "metadata": {},
   "outputs": [],
   "source": [
    "# Invoking the function to replace the missing values with np.nan\n",
    "\n",
    "data2021 = replace_values_with_nan(data2021, 'Amount', ['$Undisclosed', '$undisclosed', 'undisclosed', 'Undisclosed', 'None'])\n",
    "\n",
    "# Replacing the undesired characters\n",
    "\n",
    "data2021['Amount'] = data2021['Amount'].str.replace('[$,]', '')"
   ]
  },
  {
   "cell_type": "code",
   "execution_count": 98,
   "metadata": {},
   "outputs": [],
   "source": [
    "# Converting the 'Amount' col to float\n",
    "\n",
    "data2021['Amount'] = pd.to_numeric(data2021['Amount'])"
   ]
  },
  {
   "cell_type": "code",
   "execution_count": 99,
   "metadata": {},
   "outputs": [
    {
     "data": {
      "text/plain": [
       "dtype('float64')"
      ]
     },
     "execution_count": 99,
     "metadata": {},
     "output_type": "execute_result"
    }
   ],
   "source": [
    "# Checking....\n",
    "\n",
    "data2021['Amount'].dtype"
   ]
  },
  {
   "cell_type": "code",
   "execution_count": 100,
   "metadata": {},
   "outputs": [],
   "source": [
    "# Make scientific numbers display as normal with i decimal point\n",
    "\n",
    "pd.set_option('display.float_format', '{:.1f}'.format)\n"
   ]
  },
  {
   "cell_type": "code",
   "execution_count": 101,
   "metadata": {},
   "outputs": [
    {
     "data": {
      "text/html": [
       "<div>\n",
       "<style scoped>\n",
       "    .dataframe tbody tr th:only-of-type {\n",
       "        vertical-align: middle;\n",
       "    }\n",
       "\n",
       "    .dataframe tbody tr th {\n",
       "        vertical-align: top;\n",
       "    }\n",
       "\n",
       "    .dataframe thead th {\n",
       "        text-align: right;\n",
       "    }\n",
       "</style>\n",
       "<table border=\"1\" class=\"dataframe\">\n",
       "  <thead>\n",
       "    <tr style=\"text-align: right;\">\n",
       "      <th></th>\n",
       "      <th>Founded</th>\n",
       "      <th>Amount</th>\n",
       "    </tr>\n",
       "  </thead>\n",
       "  <tbody>\n",
       "    <tr>\n",
       "      <th>count</th>\n",
       "      <td>1180.0</td>\n",
       "      <td>1040.0</td>\n",
       "    </tr>\n",
       "    <tr>\n",
       "      <th>mean</th>\n",
       "      <td>2016.6</td>\n",
       "      <td>172664159.6</td>\n",
       "    </tr>\n",
       "    <tr>\n",
       "      <th>std</th>\n",
       "      <td>4.5</td>\n",
       "      <td>4651133125.4</td>\n",
       "    </tr>\n",
       "    <tr>\n",
       "      <th>min</th>\n",
       "      <td>1963.0</td>\n",
       "      <td>10000.0</td>\n",
       "    </tr>\n",
       "    <tr>\n",
       "      <th>25%</th>\n",
       "      <td>2015.0</td>\n",
       "      <td>1000000.0</td>\n",
       "    </tr>\n",
       "    <tr>\n",
       "      <th>50%</th>\n",
       "      <td>2018.0</td>\n",
       "      <td>3700000.0</td>\n",
       "    </tr>\n",
       "    <tr>\n",
       "      <th>75%</th>\n",
       "      <td>2020.0</td>\n",
       "      <td>15000000.0</td>\n",
       "    </tr>\n",
       "    <tr>\n",
       "      <th>max</th>\n",
       "      <td>2021.0</td>\n",
       "      <td>150000000000.0</td>\n",
       "    </tr>\n",
       "  </tbody>\n",
       "</table>\n",
       "</div>"
      ],
      "text/plain": [
       "       Founded         Amount\n",
       "count   1180.0         1040.0\n",
       "mean    2016.6    172664159.6\n",
       "std        4.5   4651133125.4\n",
       "min     1963.0        10000.0\n",
       "25%     2015.0      1000000.0\n",
       "50%     2018.0      3700000.0\n",
       "75%     2020.0     15000000.0\n",
       "max     2021.0 150000000000.0"
      ]
     },
     "execution_count": 101,
     "metadata": {},
     "output_type": "execute_result"
    }
   ],
   "source": [
    "# Get statistical summary of data2021\n",
    "\n",
    "data2021.describe()"
   ]
  },
  {
   "attachments": {},
   "cell_type": "markdown",
   "metadata": {},
   "source": [
    "Filling missing values in the 'Amount' Col"
   ]
  },
  {
   "cell_type": "code",
   "execution_count": 102,
   "metadata": {},
   "outputs": [],
   "source": [
    "# Imputing missing values\n",
    "\n",
    "array = data2021['Amount'].values.reshape(-1,1) # simpleImputer takes 2d array as input\n",
    "imputer = SimpleImputer(strategy='median')   # Chose 'median' strategy because of the presence of outliers\n",
    "\n",
    "data2021['Amount'] = imputer.fit_transform(array)"
   ]
  },
  {
   "cell_type": "code",
   "execution_count": 103,
   "metadata": {},
   "outputs": [
    {
     "data": {
      "text/html": [
       "<div>\n",
       "<style scoped>\n",
       "    .dataframe tbody tr th:only-of-type {\n",
       "        vertical-align: middle;\n",
       "    }\n",
       "\n",
       "    .dataframe tbody tr th {\n",
       "        vertical-align: top;\n",
       "    }\n",
       "\n",
       "    .dataframe thead th {\n",
       "        text-align: right;\n",
       "    }\n",
       "</style>\n",
       "<table border=\"1\" class=\"dataframe\">\n",
       "  <thead>\n",
       "    <tr style=\"text-align: right;\">\n",
       "      <th></th>\n",
       "      <th>Company_Brand</th>\n",
       "      <th>Founded</th>\n",
       "      <th>HeadQuarter</th>\n",
       "      <th>Sector</th>\n",
       "      <th>What_it_does</th>\n",
       "      <th>Founders</th>\n",
       "      <th>Investor</th>\n",
       "      <th>Amount</th>\n",
       "      <th>Stage</th>\n",
       "    </tr>\n",
       "  </thead>\n",
       "  <tbody>\n",
       "    <tr>\n",
       "      <th>0</th>\n",
       "      <td>Unbox Robotics</td>\n",
       "      <td>2019</td>\n",
       "      <td>Bangalore</td>\n",
       "      <td>AI startup</td>\n",
       "      <td>Unbox Robotics builds on-demand AI-driven ware...</td>\n",
       "      <td>Pramod Ghadge, Shahid Memon</td>\n",
       "      <td>BEENEXT, Entrepreneur First</td>\n",
       "      <td>1200000.0</td>\n",
       "      <td>Pre-series A</td>\n",
       "    </tr>\n",
       "    <tr>\n",
       "      <th>1</th>\n",
       "      <td>upGrad</td>\n",
       "      <td>2015</td>\n",
       "      <td>Mumbai</td>\n",
       "      <td>EdTech</td>\n",
       "      <td>UpGrad is an online higher education platform.</td>\n",
       "      <td>Mayank Kumar, Phalgun Kompalli, Ravijot Chugh,...</td>\n",
       "      <td>Unilazer Ventures, IIFL Asset Management</td>\n",
       "      <td>120000000.0</td>\n",
       "      <td>None</td>\n",
       "    </tr>\n",
       "    <tr>\n",
       "      <th>2</th>\n",
       "      <td>Lead School</td>\n",
       "      <td>2012</td>\n",
       "      <td>Mumbai</td>\n",
       "      <td>EdTech</td>\n",
       "      <td>LEAD School offers technology based school tra...</td>\n",
       "      <td>Smita Deorah, Sumeet Mehta</td>\n",
       "      <td>GSV Ventures, Westbridge Capital</td>\n",
       "      <td>30000000.0</td>\n",
       "      <td>Series D</td>\n",
       "    </tr>\n",
       "    <tr>\n",
       "      <th>3</th>\n",
       "      <td>Bizongo</td>\n",
       "      <td>2015</td>\n",
       "      <td>Mumbai</td>\n",
       "      <td>B2B E-commerce</td>\n",
       "      <td>Bizongo is a business-to-business online marke...</td>\n",
       "      <td>Aniket Deb, Ankit Tomar, Sachin Agrawal</td>\n",
       "      <td>CDC Group, IDG Capital</td>\n",
       "      <td>51000000.0</td>\n",
       "      <td>Series C</td>\n",
       "    </tr>\n",
       "    <tr>\n",
       "      <th>4</th>\n",
       "      <td>FypMoney</td>\n",
       "      <td>2021</td>\n",
       "      <td>Gurugram</td>\n",
       "      <td>FinTech</td>\n",
       "      <td>FypMoney is Digital NEO Bank for Teenagers, em...</td>\n",
       "      <td>Kapil Banwari</td>\n",
       "      <td>Liberatha Kallat, Mukesh Yadav, Dinesh Nagpal</td>\n",
       "      <td>2000000.0</td>\n",
       "      <td>Seed</td>\n",
       "    </tr>\n",
       "  </tbody>\n",
       "</table>\n",
       "</div>"
      ],
      "text/plain": [
       "    Company_Brand  Founded HeadQuarter          Sector  \\\n",
       "0  Unbox Robotics     2019   Bangalore      AI startup   \n",
       "1          upGrad     2015      Mumbai          EdTech   \n",
       "2     Lead School     2012      Mumbai          EdTech   \n",
       "3         Bizongo     2015      Mumbai  B2B E-commerce   \n",
       "4        FypMoney     2021    Gurugram         FinTech   \n",
       "\n",
       "                                        What_it_does  \\\n",
       "0  Unbox Robotics builds on-demand AI-driven ware...   \n",
       "1     UpGrad is an online higher education platform.   \n",
       "2  LEAD School offers technology based school tra...   \n",
       "3  Bizongo is a business-to-business online marke...   \n",
       "4  FypMoney is Digital NEO Bank for Teenagers, em...   \n",
       "\n",
       "                                            Founders  \\\n",
       "0                        Pramod Ghadge, Shahid Memon   \n",
       "1  Mayank Kumar, Phalgun Kompalli, Ravijot Chugh,...   \n",
       "2                         Smita Deorah, Sumeet Mehta   \n",
       "3            Aniket Deb, Ankit Tomar, Sachin Agrawal   \n",
       "4                                      Kapil Banwari   \n",
       "\n",
       "                                        Investor      Amount         Stage  \n",
       "0                    BEENEXT, Entrepreneur First   1200000.0  Pre-series A  \n",
       "1       Unilazer Ventures, IIFL Asset Management 120000000.0          None  \n",
       "2               GSV Ventures, Westbridge Capital  30000000.0      Series D  \n",
       "3                         CDC Group, IDG Capital  51000000.0      Series C  \n",
       "4  Liberatha Kallat, Mukesh Yadav, Dinesh Nagpal   2000000.0          Seed  "
      ]
     },
     "execution_count": 103,
     "metadata": {},
     "output_type": "execute_result"
    }
   ],
   "source": [
    "# View first 5 rows of data2021\n",
    "\n",
    "data2021.head()"
   ]
  },
  {
   "cell_type": "code",
   "execution_count": 104,
   "metadata": {},
   "outputs": [],
   "source": [
    "# Introduce a new variable, 'Year_Funded'\n",
    "\n",
    "data2021['Year_Funded'] = 2021"
   ]
  },
  {
   "cell_type": "code",
   "execution_count": 105,
   "metadata": {},
   "outputs": [
    {
     "data": {
      "text/html": [
       "<div>\n",
       "<style scoped>\n",
       "    .dataframe tbody tr th:only-of-type {\n",
       "        vertical-align: middle;\n",
       "    }\n",
       "\n",
       "    .dataframe tbody tr th {\n",
       "        vertical-align: top;\n",
       "    }\n",
       "\n",
       "    .dataframe thead th {\n",
       "        text-align: right;\n",
       "    }\n",
       "</style>\n",
       "<table border=\"1\" class=\"dataframe\">\n",
       "  <thead>\n",
       "    <tr style=\"text-align: right;\">\n",
       "      <th></th>\n",
       "      <th>Company_Brand</th>\n",
       "      <th>Founded</th>\n",
       "      <th>HeadQuarter</th>\n",
       "      <th>Sector</th>\n",
       "      <th>What_it_does</th>\n",
       "      <th>Founders</th>\n",
       "      <th>Investor</th>\n",
       "      <th>Amount</th>\n",
       "      <th>Stage</th>\n",
       "      <th>Year_Funded</th>\n",
       "    </tr>\n",
       "  </thead>\n",
       "  <tbody>\n",
       "    <tr>\n",
       "      <th>0</th>\n",
       "      <td>Unbox Robotics</td>\n",
       "      <td>2019</td>\n",
       "      <td>Bangalore</td>\n",
       "      <td>AI startup</td>\n",
       "      <td>Unbox Robotics builds on-demand AI-driven ware...</td>\n",
       "      <td>Pramod Ghadge, Shahid Memon</td>\n",
       "      <td>BEENEXT, Entrepreneur First</td>\n",
       "      <td>1200000.0</td>\n",
       "      <td>Pre-series A</td>\n",
       "      <td>2021</td>\n",
       "    </tr>\n",
       "    <tr>\n",
       "      <th>1</th>\n",
       "      <td>upGrad</td>\n",
       "      <td>2015</td>\n",
       "      <td>Mumbai</td>\n",
       "      <td>EdTech</td>\n",
       "      <td>UpGrad is an online higher education platform.</td>\n",
       "      <td>Mayank Kumar, Phalgun Kompalli, Ravijot Chugh,...</td>\n",
       "      <td>Unilazer Ventures, IIFL Asset Management</td>\n",
       "      <td>120000000.0</td>\n",
       "      <td>None</td>\n",
       "      <td>2021</td>\n",
       "    </tr>\n",
       "    <tr>\n",
       "      <th>2</th>\n",
       "      <td>Lead School</td>\n",
       "      <td>2012</td>\n",
       "      <td>Mumbai</td>\n",
       "      <td>EdTech</td>\n",
       "      <td>LEAD School offers technology based school tra...</td>\n",
       "      <td>Smita Deorah, Sumeet Mehta</td>\n",
       "      <td>GSV Ventures, Westbridge Capital</td>\n",
       "      <td>30000000.0</td>\n",
       "      <td>Series D</td>\n",
       "      <td>2021</td>\n",
       "    </tr>\n",
       "    <tr>\n",
       "      <th>3</th>\n",
       "      <td>Bizongo</td>\n",
       "      <td>2015</td>\n",
       "      <td>Mumbai</td>\n",
       "      <td>B2B E-commerce</td>\n",
       "      <td>Bizongo is a business-to-business online marke...</td>\n",
       "      <td>Aniket Deb, Ankit Tomar, Sachin Agrawal</td>\n",
       "      <td>CDC Group, IDG Capital</td>\n",
       "      <td>51000000.0</td>\n",
       "      <td>Series C</td>\n",
       "      <td>2021</td>\n",
       "    </tr>\n",
       "    <tr>\n",
       "      <th>4</th>\n",
       "      <td>FypMoney</td>\n",
       "      <td>2021</td>\n",
       "      <td>Gurugram</td>\n",
       "      <td>FinTech</td>\n",
       "      <td>FypMoney is Digital NEO Bank for Teenagers, em...</td>\n",
       "      <td>Kapil Banwari</td>\n",
       "      <td>Liberatha Kallat, Mukesh Yadav, Dinesh Nagpal</td>\n",
       "      <td>2000000.0</td>\n",
       "      <td>Seed</td>\n",
       "      <td>2021</td>\n",
       "    </tr>\n",
       "  </tbody>\n",
       "</table>\n",
       "</div>"
      ],
      "text/plain": [
       "    Company_Brand  Founded HeadQuarter          Sector  \\\n",
       "0  Unbox Robotics     2019   Bangalore      AI startup   \n",
       "1          upGrad     2015      Mumbai          EdTech   \n",
       "2     Lead School     2012      Mumbai          EdTech   \n",
       "3         Bizongo     2015      Mumbai  B2B E-commerce   \n",
       "4        FypMoney     2021    Gurugram         FinTech   \n",
       "\n",
       "                                        What_it_does  \\\n",
       "0  Unbox Robotics builds on-demand AI-driven ware...   \n",
       "1     UpGrad is an online higher education platform.   \n",
       "2  LEAD School offers technology based school tra...   \n",
       "3  Bizongo is a business-to-business online marke...   \n",
       "4  FypMoney is Digital NEO Bank for Teenagers, em...   \n",
       "\n",
       "                                            Founders  \\\n",
       "0                        Pramod Ghadge, Shahid Memon   \n",
       "1  Mayank Kumar, Phalgun Kompalli, Ravijot Chugh,...   \n",
       "2                         Smita Deorah, Sumeet Mehta   \n",
       "3            Aniket Deb, Ankit Tomar, Sachin Agrawal   \n",
       "4                                      Kapil Banwari   \n",
       "\n",
       "                                        Investor      Amount         Stage  \\\n",
       "0                    BEENEXT, Entrepreneur First   1200000.0  Pre-series A   \n",
       "1       Unilazer Ventures, IIFL Asset Management 120000000.0          None   \n",
       "2               GSV Ventures, Westbridge Capital  30000000.0      Series D   \n",
       "3                         CDC Group, IDG Capital  51000000.0      Series C   \n",
       "4  Liberatha Kallat, Mukesh Yadav, Dinesh Nagpal   2000000.0          Seed   \n",
       "\n",
       "   Year_Funded  \n",
       "0         2021  \n",
       "1         2021  \n",
       "2         2021  \n",
       "3         2021  \n",
       "4         2021  "
      ]
     },
     "execution_count": 105,
     "metadata": {},
     "output_type": "execute_result"
    }
   ],
   "source": [
    "data2021.head()  # Get first 5 rows"
   ]
  },
  {
   "attachments": {},
   "cell_type": "markdown",
   "metadata": {},
   "source": [
    "### Cleaning 'Stage' Col\n",
    "\n",
    "Inspecting the unique values in the 'Stage' Column"
   ]
  },
  {
   "cell_type": "code",
   "execution_count": 106,
   "metadata": {},
   "outputs": [
    {
     "data": {
      "text/plain": [
       "array(['Pre-series A', None, 'Series D', 'Series C', 'Seed', 'Series B',\n",
       "       'Series E', 'Pre-seed', 'Series A', 'Pre-series B', 'Debt',\n",
       "       'Bridge', 'Seed+', 'Series F2', 'Series A+', 'Series G',\n",
       "       'Series F', 'Series H', 'Series B3', 'PE', 'Series F1',\n",
       "       'Pre-series A1', 'Early seed', 'Series D1', 'Seies A',\n",
       "       'Pre-series', 'Series A2', 'Series I'], dtype=object)"
      ]
     },
     "execution_count": 106,
     "metadata": {},
     "output_type": "execute_result"
    }
   ],
   "source": [
    "data2021['Stage'].unique() # Get unique values of Stage column"
   ]
  },
  {
   "attachments": {},
   "cell_type": "markdown",
   "metadata": {},
   "source": [
    "Check how many records have the null value at the 'Stage' column"
   ]
  },
  {
   "cell_type": "code",
   "execution_count": 107,
   "metadata": {},
   "outputs": [
    {
     "data": {
      "text/plain": [
       "416"
      ]
     },
     "execution_count": 107,
     "metadata": {},
     "output_type": "execute_result"
    }
   ],
   "source": [
    "data2021['Stage'].isnull().sum()  # Get the numer of missing values in Stage"
   ]
  },
  {
   "attachments": {},
   "cell_type": "markdown",
   "metadata": {},
   "source": [
    "Oops! Pretty much! Let's take a deeper look at those records."
   ]
  },
  {
   "cell_type": "code",
   "execution_count": 108,
   "metadata": {},
   "outputs": [
    {
     "data": {
      "text/html": [
       "<div>\n",
       "<style scoped>\n",
       "    .dataframe tbody tr th:only-of-type {\n",
       "        vertical-align: middle;\n",
       "    }\n",
       "\n",
       "    .dataframe tbody tr th {\n",
       "        vertical-align: top;\n",
       "    }\n",
       "\n",
       "    .dataframe thead th {\n",
       "        text-align: right;\n",
       "    }\n",
       "</style>\n",
       "<table border=\"1\" class=\"dataframe\">\n",
       "  <thead>\n",
       "    <tr style=\"text-align: right;\">\n",
       "      <th></th>\n",
       "      <th>Company_Brand</th>\n",
       "      <th>Founded</th>\n",
       "      <th>HeadQuarter</th>\n",
       "      <th>Sector</th>\n",
       "      <th>What_it_does</th>\n",
       "      <th>Founders</th>\n",
       "      <th>Investor</th>\n",
       "      <th>Amount</th>\n",
       "      <th>Stage</th>\n",
       "      <th>Year_Funded</th>\n",
       "    </tr>\n",
       "  </thead>\n",
       "  <tbody>\n",
       "    <tr>\n",
       "      <th>1</th>\n",
       "      <td>upGrad</td>\n",
       "      <td>2015</td>\n",
       "      <td>Mumbai</td>\n",
       "      <td>EdTech</td>\n",
       "      <td>UpGrad is an online higher education platform.</td>\n",
       "      <td>Mayank Kumar, Phalgun Kompalli, Ravijot Chugh,...</td>\n",
       "      <td>Unilazer Ventures, IIFL Asset Management</td>\n",
       "      <td>120000000.0</td>\n",
       "      <td>None</td>\n",
       "      <td>2021</td>\n",
       "    </tr>\n",
       "    <tr>\n",
       "      <th>5</th>\n",
       "      <td>Urban Company</td>\n",
       "      <td>2014</td>\n",
       "      <td>New Delhi</td>\n",
       "      <td>Home services</td>\n",
       "      <td>Urban Company (Formerly UrbanClap) is a home a...</td>\n",
       "      <td>Abhiraj Singh Bhal, Raghav Chandra, Varun Khaitan</td>\n",
       "      <td>Vy Capital</td>\n",
       "      <td>188000000.0</td>\n",
       "      <td>None</td>\n",
       "      <td>2021</td>\n",
       "    </tr>\n",
       "    <tr>\n",
       "      <th>6</th>\n",
       "      <td>Comofi Medtech</td>\n",
       "      <td>2018</td>\n",
       "      <td>Bangalore</td>\n",
       "      <td>HealthTech</td>\n",
       "      <td>Comofi Medtech is a healthcare robotics startup.</td>\n",
       "      <td>Gururaj KB</td>\n",
       "      <td>CIIE.CO, KIIT-TBI</td>\n",
       "      <td>200000.0</td>\n",
       "      <td>None</td>\n",
       "      <td>2021</td>\n",
       "    </tr>\n",
       "    <tr>\n",
       "      <th>8</th>\n",
       "      <td>Vitra.ai</td>\n",
       "      <td>2020</td>\n",
       "      <td>Bangalore</td>\n",
       "      <td>Tech Startup</td>\n",
       "      <td>Vitra.ai is an AI-based video translation plat...</td>\n",
       "      <td>Akash Nidhi PS</td>\n",
       "      <td>Inflexor Ventures</td>\n",
       "      <td>3700000.0</td>\n",
       "      <td>None</td>\n",
       "      <td>2021</td>\n",
       "    </tr>\n",
       "    <tr>\n",
       "      <th>9</th>\n",
       "      <td>Taikee</td>\n",
       "      <td>2010</td>\n",
       "      <td>Mumbai</td>\n",
       "      <td>E-commerce</td>\n",
       "      <td>Taikee is the ISO-certified, B2B e-commerce pl...</td>\n",
       "      <td>Nidhi Ramachandran, Sachin Chhabra</td>\n",
       "      <td>None</td>\n",
       "      <td>1000000.0</td>\n",
       "      <td>None</td>\n",
       "      <td>2021</td>\n",
       "    </tr>\n",
       "  </tbody>\n",
       "</table>\n",
       "</div>"
      ],
      "text/plain": [
       "    Company_Brand  Founded HeadQuarter         Sector  \\\n",
       "1          upGrad     2015      Mumbai         EdTech   \n",
       "5   Urban Company     2014   New Delhi  Home services   \n",
       "6  Comofi Medtech     2018   Bangalore     HealthTech   \n",
       "8        Vitra.ai     2020   Bangalore   Tech Startup   \n",
       "9          Taikee     2010      Mumbai     E-commerce   \n",
       "\n",
       "                                        What_it_does  \\\n",
       "1     UpGrad is an online higher education platform.   \n",
       "5  Urban Company (Formerly UrbanClap) is a home a...   \n",
       "6   Comofi Medtech is a healthcare robotics startup.   \n",
       "8  Vitra.ai is an AI-based video translation plat...   \n",
       "9  Taikee is the ISO-certified, B2B e-commerce pl...   \n",
       "\n",
       "                                            Founders  \\\n",
       "1  Mayank Kumar, Phalgun Kompalli, Ravijot Chugh,...   \n",
       "5  Abhiraj Singh Bhal, Raghav Chandra, Varun Khaitan   \n",
       "6                                         Gururaj KB   \n",
       "8                                     Akash Nidhi PS   \n",
       "9                 Nidhi Ramachandran, Sachin Chhabra   \n",
       "\n",
       "                                   Investor      Amount Stage  Year_Funded  \n",
       "1  Unilazer Ventures, IIFL Asset Management 120000000.0  None         2021  \n",
       "5                                Vy Capital 188000000.0  None         2021  \n",
       "6                         CIIE.CO, KIIT-TBI    200000.0  None         2021  \n",
       "8                         Inflexor Ventures   3700000.0  None         2021  \n",
       "9                                      None   1000000.0  None         2021  "
      ]
     },
     "execution_count": 108,
     "metadata": {},
     "output_type": "execute_result"
    }
   ],
   "source": [
    "data2021[data2021['Stage'].isnull()].head() # View first 5 rows whose stage column are null"
   ]
  },
  {
   "attachments": {},
   "cell_type": "markdown",
   "metadata": {},
   "source": [
    "Alright! These companies are listed on cruchbase, the leading provider of private-company prospecting and research solutions. <br>\n",
    "Let's see if we can get reliable data to fill-in the nulls"
   ]
  },
  {
   "cell_type": "code",
   "execution_count": 109,
   "metadata": {},
   "outputs": [],
   "source": [
    "# Fill-in some nulls with their correct values\n",
    "\n",
    "data2021.iloc[1, 8] = 'Venture - Series Unknown'\n",
    "data2021.iloc[5, 8] = 'Secondary Market'\n",
    "data2021.iloc[6, 8] = 'Pre-Seed'\n",
    "data2021.iloc[8, 8] = 'Seed'\n",
    "data2021.iloc[9, 8] = 'Venture - Series Unknown'\n",
    "data2021.iloc[11, 8] = 'Pre-Seed'\n",
    "data2021.iloc[13, 8] = 'Series A'\n",
    "data2021.iloc[14, 8] = 'Series D'\n",
    "data2021.iloc[15, 8] = 'Series E'\n",
    "data2021.iloc[16, 8] = 'Series A'\n",
    "data2021.iloc[24, 8] = 'Debt'\n",
    "data2021.iloc[31, 8] = ' Series A'\n",
    "data2021.iloc[34, 8] = 'Venture - Series Unknown'\n",
    "data2021.iloc[35, 8] = 'Venture - Series Unknown'\n",
    "data2021.iloc[36, 8] = 'Venture - Series Unknown'\n",
    "data2021.iloc[37, 8] = 'Venture - Series Unknown'\n",
    "data2021.iloc[40, 8] = 'Series A'\n",
    "data2021.iloc[42, 8] = 'Seed'\n",
    "data2021.iloc[46, 8] = 'Equity Crowdfunding'"
   ]
  },
  {
   "attachments": {},
   "cell_type": "markdown",
   "metadata": {},
   "source": [
    "Good! I could just get a few. \n",
    "\n",
    "Let's have a look at what the unique values are again."
   ]
  },
  {
   "cell_type": "code",
   "execution_count": 110,
   "metadata": {},
   "outputs": [
    {
     "data": {
      "text/plain": [
       "array(['Pre-series A', 'Venture - Series Unknown', 'Series D', 'Series C',\n",
       "       'Seed', 'Secondary Market', 'Pre-Seed', 'Series A', 'Series E',\n",
       "       'Series B', 'Pre-seed', 'Debt', ' Series A', None,\n",
       "       'Equity Crowdfunding', 'Pre-series B', 'Bridge', 'Seed+',\n",
       "       'Series F2', 'Series A+', 'Series G', 'Series F', 'Series H',\n",
       "       'Series B3', 'PE', 'Series F1', 'Pre-series A1', 'Early seed',\n",
       "       'Series D1', 'Seies A', 'Pre-series', 'Series A2', 'Series I'],\n",
       "      dtype=object)"
      ]
     },
     "execution_count": 110,
     "metadata": {},
     "output_type": "execute_result"
    }
   ],
   "source": [
    "data2021['Stage'].unique()  # Get unique values of stage column again"
   ]
  },
  {
   "attachments": {},
   "cell_type": "markdown",
   "metadata": {},
   "source": [
    "Ok, Let's put these values in a standard format."
   ]
  },
  {
   "cell_type": "code",
   "execution_count": 111,
   "metadata": {},
   "outputs": [],
   "source": [
    "# Function to replace or group the funding rounds\n",
    "\n",
    "def update_value(value):\n",
    "    \"\"\"\n",
    "    Update the given value based on predefined replacements.\n",
    "\n",
    "    Args:\n",
    "        value (str): The value to be updated.\n",
    "\n",
    "    Returns:\n",
    "        str: The updated value.\n",
    "    \"\"\"\n",
    "    replacements = {\n",
    "        r'Pre series|Early seed|Pre-series A|Pre-series A1': 'Pre-series',\n",
    "        r'Seies A|Seed+|Pre-series B|Series A2': 'Series A',\n",
    "        r'PE': 'Private Equity',\n",
    "        r'Debt': 'Debt Financing',\n",
    "        r'Seed1': 'Seed',\n",
    "        r'None': 'Venture - Series Unknown',\n",
    "        r'Series A+|Series B3| Series B': 'Series B',\n",
    "        r'Series F2|Series F1|Series D1|Series D|Series G|Series H|Series I|Series E|Series F': 'Series C',\n",
    "    }\n",
    "\n",
    "    for pattern, replacement in replacements.items():\n",
    "        value = re.sub(pattern, replacement, str(value))\n",
    "\n",
    "    return value\n",
    "\n",
    "\n",
    "data2021 = data2021.applymap(update_value)\n"
   ]
  },
  {
   "attachments": {},
   "cell_type": "markdown",
   "metadata": {},
   "source": [
    "Great! Checking........"
   ]
  },
  {
   "cell_type": "code",
   "execution_count": 112,
   "metadata": {},
   "outputs": [
    {
     "data": {
      "text/plain": [
       "array(['Pre-series', 'Venture - Series Unknown', 'Series C', 'Series B',\n",
       "       'Secondary Market', 'Pre-Series B', 'Pre-seed', 'Debt Financing',\n",
       "       ' Series B', 'Equity Crowdfunding', 'Bridge', 'Series B+',\n",
       "       'Private Equity', 'Pre-series1'], dtype=object)"
      ]
     },
     "execution_count": 112,
     "metadata": {},
     "output_type": "execute_result"
    }
   ],
   "source": [
    "# Check the unique values of the stage column\n",
    "\n",
    "data2021['Stage'].unique()"
   ]
  },
  {
   "attachments": {},
   "cell_type": "markdown",
   "metadata": {},
   "source": [
    "Ouch!  'Series B+',  'Pre-Series B' and 'Pre-series1' want to be treated diferently! I see. Let's implore another method!"
   ]
  },
  {
   "cell_type": "code",
   "execution_count": 113,
   "metadata": {},
   "outputs": [],
   "source": [
    "# Replace values\n",
    "\n",
    "data2021['Stage'].replace('Series B+', 'Series B', inplace=True)\n",
    "data2021['Stage'].replace('Pre-series1', 'Pre-series', inplace=True)\n",
    "data2021['Stage'].replace('Pre-Series B', 'Series A', inplace=True)\n",
    "data2021['Stage'].replace(' Series B', 'Series B', inplace=True)\n"
   ]
  },
  {
   "attachments": {},
   "cell_type": "markdown",
   "metadata": {},
   "source": [
    "Nice! Let's take a look at the unique values for stage column again!"
   ]
  },
  {
   "cell_type": "code",
   "execution_count": 114,
   "metadata": {},
   "outputs": [
    {
     "data": {
      "text/plain": [
       "array(['Pre-series', 'Venture - Series Unknown', 'Series C', 'Series B',\n",
       "       'Secondary Market', 'Series A', 'Pre-seed', 'Debt Financing',\n",
       "       'Equity Crowdfunding', 'Bridge', 'Private Equity'], dtype=object)"
      ]
     },
     "execution_count": 114,
     "metadata": {},
     "output_type": "execute_result"
    }
   ],
   "source": [
    "# Get unique valaues of the stage column again\n",
    "\n",
    "data2021['Stage'].unique()"
   ]
  },
  {
   "cell_type": "markdown",
   "metadata": {},
   "source": [
    "Perfect!"
   ]
  },
  {
   "cell_type": "markdown",
   "metadata": {},
   "source": [
    "Dealing with the Investor Column <br>\n",
    "\n",
    "Inspecting the unique instances of the 'Investor Column'"
   ]
  },
  {
   "cell_type": "markdown",
   "metadata": {},
   "source": [
    "NO anomaly spotted here, good! Let's now separate and keep first names......nooooo....wait! <br>\n",
    "\n",
    "..before that I just saw 'http://100x.vc/' and '2000000' as an investor. Let's check that out!"
   ]
  },
  {
   "cell_type": "code",
   "execution_count": 116,
   "metadata": {},
   "outputs": [
    {
     "data": {
      "text/html": [
       "<div>\n",
       "<style scoped>\n",
       "    .dataframe tbody tr th:only-of-type {\n",
       "        vertical-align: middle;\n",
       "    }\n",
       "\n",
       "    .dataframe tbody tr th {\n",
       "        vertical-align: top;\n",
       "    }\n",
       "\n",
       "    .dataframe thead th {\n",
       "        text-align: right;\n",
       "    }\n",
       "</style>\n",
       "<table border=\"1\" class=\"dataframe\">\n",
       "  <thead>\n",
       "    <tr style=\"text-align: right;\">\n",
       "      <th></th>\n",
       "      <th>Company_Brand</th>\n",
       "      <th>Founded</th>\n",
       "      <th>HeadQuarter</th>\n",
       "      <th>Sector</th>\n",
       "      <th>What_it_does</th>\n",
       "      <th>Founders</th>\n",
       "      <th>Investor</th>\n",
       "      <th>Amount</th>\n",
       "      <th>Stage</th>\n",
       "      <th>Year_Funded</th>\n",
       "    </tr>\n",
       "  </thead>\n",
       "  <tbody>\n",
       "    <tr>\n",
       "      <th>59</th>\n",
       "      <td>Karnival</td>\n",
       "      <td>2015</td>\n",
       "      <td>Bangalore</td>\n",
       "      <td>SaaS startup</td>\n",
       "      <td>A SAAS platform for retailers and brands to cr...</td>\n",
       "      <td>Neeraj Tyagi</td>\n",
       "      <td>http://100x.vc/</td>\n",
       "      <td>2500000.0</td>\n",
       "      <td>Series B</td>\n",
       "      <td>2021</td>\n",
       "    </tr>\n",
       "    <tr>\n",
       "      <th>877</th>\n",
       "      <td>EyeMyEye</td>\n",
       "      <td>2021</td>\n",
       "      <td>Gurugram</td>\n",
       "      <td>Eyewear</td>\n",
       "      <td>Shop the latest Eyeglasses, Sunglasses, Power ...</td>\n",
       "      <td>Ganesh Iyer</td>\n",
       "      <td>2000000</td>\n",
       "      <td>2000000.0</td>\n",
       "      <td>Pre-series</td>\n",
       "      <td>2021</td>\n",
       "    </tr>\n",
       "  </tbody>\n",
       "</table>\n",
       "</div>"
      ],
      "text/plain": [
       "    Company_Brand Founded HeadQuarter        Sector  \\\n",
       "59       Karnival    2015   Bangalore  SaaS startup   \n",
       "877      EyeMyEye    2021    Gurugram       Eyewear   \n",
       "\n",
       "                                          What_it_does      Founders  \\\n",
       "59   A SAAS platform for retailers and brands to cr...  Neeraj Tyagi   \n",
       "877  Shop the latest Eyeglasses, Sunglasses, Power ...   Ganesh Iyer   \n",
       "\n",
       "            Investor     Amount       Stage Year_Funded  \n",
       "59   http://100x.vc/  2500000.0    Series B        2021  \n",
       "877          2000000  2000000.0  Pre-series        2021  "
      ]
     },
     "execution_count": 116,
     "metadata": {},
     "output_type": "execute_result"
    }
   ],
   "source": [
    "# Get the row/rows that have 'http://100x.vc/' as investor\n",
    "\n",
    "data2021[(data2021['Investor'] == 'http://100x.vc/')|(data2021['Investor'] == '2000000')]"
   ]
  },
  {
   "cell_type": "markdown",
   "metadata": {},
   "source": [
    "Alright, let's dig deeper by clicking the link.......Ohh, I got it! The Investor is a company named '100x.vc' <br>\n",
    "\n",
    "Making the change........"
   ]
  },
  {
   "cell_type": "code",
   "execution_count": 120,
   "metadata": {},
   "outputs": [],
   "source": [
    "# Slice that value and asign '100x.vc'\n",
    "\n",
    "data2021.at[59, 'Investor'] = '100x.vc'\n",
    "data2021.at[877, 'Investor'] = 'LetsVenture'"
   ]
  },
  {
   "cell_type": "code",
   "execution_count": 121,
   "metadata": {},
   "outputs": [
    {
     "data": {
      "text/html": [
       "<div>\n",
       "<style scoped>\n",
       "    .dataframe tbody tr th:only-of-type {\n",
       "        vertical-align: middle;\n",
       "    }\n",
       "\n",
       "    .dataframe tbody tr th {\n",
       "        vertical-align: top;\n",
       "    }\n",
       "\n",
       "    .dataframe thead th {\n",
       "        text-align: right;\n",
       "    }\n",
       "</style>\n",
       "<table border=\"1\" class=\"dataframe\">\n",
       "  <thead>\n",
       "    <tr style=\"text-align: right;\">\n",
       "      <th></th>\n",
       "      <th>Company_Brand</th>\n",
       "      <th>Founded</th>\n",
       "      <th>HeadQuarter</th>\n",
       "      <th>Sector</th>\n",
       "      <th>What_it_does</th>\n",
       "      <th>Founders</th>\n",
       "      <th>Investor</th>\n",
       "      <th>Amount</th>\n",
       "      <th>Stage</th>\n",
       "      <th>Year_Funded</th>\n",
       "    </tr>\n",
       "  </thead>\n",
       "  <tbody>\n",
       "    <tr>\n",
       "      <th>59</th>\n",
       "      <td>Karnival</td>\n",
       "      <td>2015</td>\n",
       "      <td>Bangalore</td>\n",
       "      <td>SaaS startup</td>\n",
       "      <td>A SAAS platform for retailers and brands to cr...</td>\n",
       "      <td>Neeraj Tyagi</td>\n",
       "      <td>100x.vc</td>\n",
       "      <td>2500000.0</td>\n",
       "      <td>Series B</td>\n",
       "      <td>2021</td>\n",
       "    </tr>\n",
       "    <tr>\n",
       "      <th>877</th>\n",
       "      <td>EyeMyEye</td>\n",
       "      <td>2021</td>\n",
       "      <td>Gurugram</td>\n",
       "      <td>Eyewear</td>\n",
       "      <td>Shop the latest Eyeglasses, Sunglasses, Power ...</td>\n",
       "      <td>Ganesh Iyer</td>\n",
       "      <td>LetsVenture</td>\n",
       "      <td>2000000.0</td>\n",
       "      <td>Pre-series</td>\n",
       "      <td>2021</td>\n",
       "    </tr>\n",
       "    <tr>\n",
       "      <th>941</th>\n",
       "      <td>Trica</td>\n",
       "      <td>2021</td>\n",
       "      <td>Mumbai</td>\n",
       "      <td>Equity Management</td>\n",
       "      <td>Powering private markets - A technology platfo...</td>\n",
       "      <td>Nimesh Kampani</td>\n",
       "      <td>LetsVenture</td>\n",
       "      <td>3000000.0</td>\n",
       "      <td>Series B</td>\n",
       "      <td>2021</td>\n",
       "    </tr>\n",
       "  </tbody>\n",
       "</table>\n",
       "</div>"
      ],
      "text/plain": [
       "    Company_Brand Founded HeadQuarter             Sector  \\\n",
       "59       Karnival    2015   Bangalore       SaaS startup   \n",
       "877      EyeMyEye    2021    Gurugram            Eyewear   \n",
       "941         Trica    2021      Mumbai  Equity Management   \n",
       "\n",
       "                                          What_it_does        Founders  \\\n",
       "59   A SAAS platform for retailers and brands to cr...    Neeraj Tyagi   \n",
       "877  Shop the latest Eyeglasses, Sunglasses, Power ...     Ganesh Iyer   \n",
       "941  Powering private markets - A technology platfo...  Nimesh Kampani   \n",
       "\n",
       "        Investor     Amount       Stage Year_Funded  \n",
       "59       100x.vc  2500000.0    Series B        2021  \n",
       "877  LetsVenture  2000000.0  Pre-series        2021  \n",
       "941  LetsVenture  3000000.0    Series B        2021  "
      ]
     },
     "execution_count": 121,
     "metadata": {},
     "output_type": "execute_result"
    }
   ],
   "source": [
    "# Checking..........\n",
    "data2021[(data2021['Investor'] == '100x.vc')|(data2021['Investor'] == 'LetsVenture')]"
   ]
  },
  {
   "cell_type": "markdown",
   "metadata": {},
   "source": [
    "Good! What next?............ Let's now clean by retaining only the first"
   ]
  },
  {
   "cell_type": "code",
   "execution_count": 57,
   "metadata": {},
   "outputs": [],
   "source": [
    "# Splitting the names separated by ',' and keeping the first\n",
    "\n",
    "data2021[\"Investor\"] = data2021[\"Investor\"].map(lambda x: str(x).split(',')[0])\n"
   ]
  },
  {
   "cell_type": "code",
   "execution_count": 58,
   "metadata": {},
   "outputs": [
    {
     "data": {
      "text/plain": [
       "array(['BEENEXT', 'Unilazer Ventures', 'GSV Ventures', 'CDC Group',\n",
       "       'Liberatha Kallat', 'Vy Capital', 'CIIE.CO',\n",
       "       'Inflection Point Ventures', 'Inflexor Ventures',\n",
       "       'Venture - Series Unknown', '9Unicorns Accelerator Fund',\n",
       "       'SucSEED Indovation', 'Safe Planet Medicare', 'Impact Partners',\n",
       "       'Tiger Global Management', 'Novo Tellus Capital',\n",
       "       'Raintree Family Office', 'Mumbai Angels', 'Paradigm',\n",
       "       'Matrix Partners India', 'Chiratae Ventures',\n",
       "       'Mumbai Angels Network', 'GVFL', 'Kotak Mahindra Bank',\n",
       "       'Kalaari Capital', 'NB Ventures', 'Sequoia Capital India',\n",
       "       'Gaurav Munjal', 'JITO Angel Network', 'STRIVE VC',\n",
       "       'Venture Catalysts', 'Jaipuria Family Office', 'Amazon',\n",
       "       'Riso Capital', 'MTG Ventures', 'Qualcomm Ventures', '9Unicorns',\n",
       "       'Morgan Stanley', 'Alfa Ventures', 'Stellaris Venture Partners',\n",
       "       'Spanache', 'DSG Consumer Partners', 'Hindustan Media Ventures',\n",
       "       'Angelbay Holdings', 'Alteria Capital', 'WaterBridge Ventures',\n",
       "       'Carmignac', 'Vaibhav Domkundwar', 'Acko Technology',\n",
       "       'Bertelsmann India Investments', 'Dragoneer Investment Group',\n",
       "       '100x.vc', 'TPG Growth', 'Centrum Financial Services',\n",
       "       'Harsha Bhogle', 'GetVantage', 'Michael & Susan Dell Foundation',\n",
       "       'Marquee fintech founders', 'Falcon Edge India', 'SOSV',\n",
       "       'Twitter Ventures', 'CitiusTech', 'Arena Holdings',\n",
       "       'T Choithrams BVI', 'Kogta Financial India Limited',\n",
       "       'SucSEED Venture Partners', 'SAIF Partners',\n",
       "       'Global Founders Capital', 'JAFCO Asia', 'Y Combinator',\n",
       "       'Artha Venture Fund', 'Jitendra Gupta', 'FJ Labs',\n",
       "       'Indian Angel Network', 'Elevation Partners', 'Lumikai',\n",
       "       'C4D Partners', 'Bertelsmann India', 'Iron Pillar', 'FMC',\n",
       "       'InvestCorp', 'Unicorn India Ventures', 'Avaana Capital',\n",
       "       'Punit Balan', 'Skycatcher', 'Eclear Leasing', 'First Cheque',\n",
       "       'Velocity', 'Tribe Capital', 'Fireside Ventures', 'Titan Capital',\n",
       "       'Info Edge Ventures', 'Accel', 'Binny Bansal', 'TradeCred',\n",
       "       'UC Inclusive Credit', 'IIFL India Private Equity Fund',\n",
       "       'Faering Capital', 'responsAbility Investments', 'Sanchit Agarwal',\n",
       "       'CRV', 'Salesforce Ventures', 'Micelio Fund', 'IIFL Wealth',\n",
       "       'Better Capital', 'IAN', 'Alpha Wave Incubation',\n",
       "       'Point One Capital', 'Microsoft', 'Shell Ventures',\n",
       "       'We Founder Circle', 'Saama Capital',\n",
       "       'Tiger Global’s Scott Schleifer', 'Elevation Capital',\n",
       "       'Sixth Sense Ventures', 'Anicut Angel Fund', 'Info Edge',\n",
       "       'WestCap Group', 'Siguler Guff', 'IIFL AMC',\n",
       "       'ITI Growth Opportunities', 'Amrac Investment Trust',\n",
       "       'Bhavin Turakhia', 'Amara Raja Batteries',\n",
       "       'India Infoline Finance', 'Venture Highway', 'Axilor',\n",
       "       'Westbridge Capital', '100X.VC\\ufeff', 'IIFL', 'Verlinvest',\n",
       "       'Tiger Global', 'Alphabit Fund', 'Roots Ventures',\n",
       "       'Nexus Venture Partners', 'SucSEED Indovation Fund',\n",
       "       'Potencia Ventures', 'Evolvence Capital', 'SARA ELGI', 'Nubank',\n",
       "       'ah! Ventures High Tables', 'Eight Roads Ventures', 'A91 Partners',\n",
       "       'Sequoia’s Surge', 'Lead Angels', 'Accel Partners',\n",
       "       'Ecosystem Ventures', 'Disrupt ADQ', 'Valar Ventures', 'Zomato',\n",
       "       'Lightspeed', 'Tuscan Ventures', 'Signal Peak Ventures',\n",
       "       'Evolvence', 'BlueOrchard Impact Investment Managers',\n",
       "       'Steadview Capital', 'MassMutual Ventures', 'YourNest VC',\n",
       "       'Accel India', 'Vijay Shekhar Sharma', 'TVS Motor',\n",
       "       'IIFL Asset Management', 'Oasis Capital', 'Founders Room Capital',\n",
       "       'WEH Ventures', 'Kunal Shah', 'Guild Capital', 'General Catalyst',\n",
       "       'Varun Alagh', 'SoftBank Vision Fund 2', 'Jungle Ventures',\n",
       "       'Marquee international institutional investors', 'Alkeon Capital',\n",
       "       'Y Combinator\\ufeff', 'Shrishti Sahu', 'Astra Ventures',\n",
       "       'Capital A', 'Aditya Singhal', 'Pentathlon Ventures',\n",
       "       'Alpha Wave Ventures II', 'KRAFTON', 'Recur Club',\n",
       "       'DevX Venture Fund', 'Ajith Daneil', 'Aurum Proptech',\n",
       "       'Y-Combinator', 'The Good Glamm Group', 'Invus', 'Shuru Up',\n",
       "       'Ankit Mehrotra', 'Sauce.vc', '3one4 Capital', 'YCombinator',\n",
       "       'Sojitz Corporation', 'Nabventures', 'Fluid Ventures',\n",
       "       'Rajesh Rajendran', 'Mike Novogratz', 'Reliance Digital Health',\n",
       "       'Ritu Marya Family Office.', 'Ten Innovate', 'Shark Tank India',\n",
       "       'Premji Invest', 'Sequoia', 'Apis Insurtech Fund I', 'SK Tripathi',\n",
       "       'Hardcastle Petrofer', 'Ocean View Investment', 'Omidyar Network',\n",
       "       'ITI Growth Opportunities Fund', 'InnoVen Capital',\n",
       "       'Orios Venture Partners', 'Omidyar Network India',\n",
       "       'Wipro venture capital arm', 'Yuj Ventures', 'Anas Rahman Junaid',\n",
       "       'Capital One', 'YourNest Venture Capital', 'Incubate Fund India',\n",
       "       'Fresco Capital', 'Rohit Goutamchand',\n",
       "       'Rajasthan Venture Capital Fund', 'Amplo', 'Justin Mateen',\n",
       "       'View Trade Holding Corp', 'ScoopWhoop', 'Canaan Valley Capital',\n",
       "       'RTP Global', 'Paragon Partners', 'EXPrivate EquityRT DOJO',\n",
       "       'InCred Financial Services', 'ah! Ventures', 'Somak Ghosh', 'Wurk',\n",
       "       'Plutus Wealth Management', 'Ambiga Subramanian', 'Rajan Anadan',\n",
       "       'Jesse Lucas', 'IDFC Private Equity', 'Equanimity Ventures',\n",
       "       'BlueOrchard Finance S A', 'Gojo & Company',\n",
       "       'Pegasus Tech Ventures', 'Hitesh Oberoi', 'YES Bank',\n",
       "       'Campus Fund', 'Hyperplane Venture Capital', 'Quess Corp India',\n",
       "       'Sunil Kumar Singhvi',\n",
       "       'India Accelerator’s Angel Investor Network', 'Shell Foundation',\n",
       "       'Jimmy Singh', 'Singapore Angel Network',\n",
       "       'Starfish Growth Partners', 'Hashed',\n",
       "       \"Zerodha's Rainmatter Capital\", 'Lightbox', 'Tomorrow Capital',\n",
       "       'BlackSoil Capital', 'PointOne Capital', 'Blockchain Capital',\n",
       "       'Baring Private Equity Partners India', 'Prosus Ventures',\n",
       "       'U.S. International Development Finance Corp', 'Binance Labs',\n",
       "       'RP-Sanjiv Goenka Group', 'IvyCap Ventures', 'Zone Startups In',\n",
       "       'Blue Ashva Capital', 'Ribbit Capital', 'Ecom Express',\n",
       "       'Satish Grampurohit', 'Amit Singhal', 'Octahedron Capital', 'GSF',\n",
       "       'Ajat Hukkoo', 'Think Investments', 'Yatra Angel Network',\n",
       "       'Trishneet Arora', 'ContCentric', 'Siana Capital', 'DST Global',\n",
       "       'Anthill Ventures', 'Enzia Ventures', 'Invested Development',\n",
       "       'Dhianu Das', 'Hindustan Media Venture', 'Omnivore',\n",
       "       'Awign Enterprises', 'Siddharth Bhaskar Shah', 'S Chand',\n",
       "       'Goldman Sachs', 'growX ventures', 'Mount Judi India Growth Fund',\n",
       "       'GEF Capital’s South Asia Fund', 'Sunil Sethia', 'Sequoia Capital',\n",
       "       'Mechanism Capital', 'Northern Arc Capital',\n",
       "       'Pearl Investment LLC', '021 Capital',\n",
       "       'Kotak Investment Advisors Limited', 'VANS Group',\n",
       "       'Sachin Tendulkar', 'Xentel Investments', 'Waterbridge', 'Auxano',\n",
       "       'Infoedge ventures', 'Jupiter', 'Unitus Ventures', 'GIC',\n",
       "       'pi Ventures', 'Northern Arc', 'Sofina Ventures SA', 'Prime VP',\n",
       "       'Endiya Partners', 'Gokul Rajaram', 'Callapina Capital',\n",
       "       'Khosla Ventures', 'Temasek', 'Deep Kalra', 'Capital India',\n",
       "       'FirstCry', 'SAB Holdings', 'Lightspeed Venture Partners',\n",
       "       'Jayanti Kanani', 'LeapFrog', 'Ananta Capital',\n",
       "       'TATA Cleantech Capital', 'Aqua-Spark', 'Climate Angels Fund',\n",
       "       'Entrepreneur First (EF)', 'Zephyr Peacock', 'ADM Capital',\n",
       "       'SoftBank Vision Fund', '100x Entrepreneurs',\n",
       "       'Healthcare veterans', 'Bank of Baroda', 'IAN Fund', 'Mirae Asset',\n",
       "       'Kotak Securities', 'Klub', 'Balaji Srinivasan',\n",
       "       'BASF Venture Capital GmbH', 'Rebright Partners', 'Sequoia Surge',\n",
       "       'Parthiv Group', 'Krafton Inc', 'Blume Ventures',\n",
       "       'Beyond Next Ventures', 'AdvantEdge Founders',\n",
       "       'Griffin Gaming Partners', 'Zinnia Global', 'InfoEdge Ventures',\n",
       "       'Antler India', 'Bharat Inclusion', 'Fidelity', 'Blacksoil',\n",
       "       'Speciale Invest', 'Canbank Venture Capital Fund',\n",
       "       'W Health Ventures', 'Anand Prakash Sharma', 'Axilor Ventures',\n",
       "       'velocity.in', 'March Capital', 'Learn Capital', 'Uday Sodhi',\n",
       "       'Angelist India', 'Stanford Angels and Entrepreneurs India',\n",
       "       'Avon Cycles', 'HNIs', 'NewQuest Capital Partners', 'Lasons India',\n",
       "       'Pankaj Chaddah', 'Paytm', 'BlackSoil', 'Saama',\n",
       "       'The Chennai Angels', 'State Bank of India', 'Sanjay Baldwa',\n",
       "       'InfoEdge', 'Nitin Passi', 'Stride Ventures',\n",
       "       'Triodos Investment Management', 'N+1 Capital', 'Amit Singal',\n",
       "       'Trifecta Capital Advisors', 'Kumar Aakash', 'Shaival Desai',\n",
       "       'Aavishkaar Venture Capital', 'Tiga Investments', 'Qualgro',\n",
       "       'Amit Lakhotia', 'Pravega Ventures', 'Greenoaks Capital',\n",
       "       'BLinC Invest', 'Spring Marketing Capital',\n",
       "       'Chaitanya Kalipatnapu', 'Roha Investment Managers',\n",
       "       'TNF Ventures', 'Lok Capital', 'Nvidia Inception',\n",
       "       'Marquee investors', 'Ashish Hemrajani', 'India Accelerator',\n",
       "       'Roshan Abbas', 'Goat Capital', 'Blackstone Group',\n",
       "       'GoAhead Ventures', 'Paradigm Shift Capital', 'Arali Ventures',\n",
       "       'Anup Kumar Yama', 'iSeries B',\n",
       "       'Research Innovation Incubation Design Labs',\n",
       "       'GUSEC Series B Fund', 'Quadria Capital',\n",
       "       'Ashwini Kakkar. 9Unicorns', 'Ashish Shah', 'Faad Network',\n",
       "       'Krafton', 'Indovation Fund', 'Gunosy', 'Edge Ventures',\n",
       "       'Yamaha Motors', 'Norfund', 'Siti Cable',\n",
       "       'Crossbeam Venture Partners', 'Aavishkaar Capital', 'Mapmyindia',\n",
       "       'Jyoti Bansal', 'Accor', 'SRI Capital', 'Addition', '1Crowd',\n",
       "       'TCV', 'BanyanTree Finance Pvt. Ltd.', 'Quona Capital',\n",
       "       'Ashv Finance', 'Sweta Rau', 'Rajesh Sud', 'PayU',\n",
       "       'Sundi Natarajan', 'TPG Capital Asia', 'MaGEHold Pte. Ltd.',\n",
       "       'BlackRock', 'Asian Development Bank', 'JSW Ventures',\n",
       "       'ACPI Investments', 'RouteOne', 'India Quotient',\n",
       "       'TCN International Commerce', 'Alpine Capital',\n",
       "       'Bon Angels Venture Partners', 'Bain Capital', 'F-Prime Capital',\n",
       "       'Hornbill Capital Advisers', 'ADB Ventures', 'Techstars',\n",
       "       'Bessemer Venture Partners', 'Falcon Edge Capital',\n",
       "       'Angel investors', 'Akya Ventures', 'Kayenne Ventures',\n",
       "       'Kae Capital', 'Elevar Equity', 'Radiant Life Care Private Ltd',\n",
       "       'Mount Judi Ventures', 'Richard Rekhy', 'GAWA Capital',\n",
       "       'Eight Roads Ventures India', 'Hungama',\n",
       "       'Agility Venture Partners', 'Jetty Ventures', 'Avendus',\n",
       "       'YourNest', 'National Skill Development Corporation', 'Infosys',\n",
       "       'Real Estate Accelerator Program (REAP)',\n",
       "       'Kohlberg Kravis Roberts', 'Shireen Rangaswamy', 'Dinesh Godara',\n",
       "       'Sistema Asia Capital', 'Rajesh Agarwal', 'Kallol Banerjee',\n",
       "       'MyAsia VC', 'Artha India Ventures', 'GSV',\n",
       "       'WorldBusiness Capital', 'Tanglin Ventures', 'Devesh Sachdev',\n",
       "       'Pradeep K Jaisingh', 'Brex', 'Mark Cuban', 'Gurj Aujla',\n",
       "       'Dream Sports', 'The Chatterjee Group', 'Harsh Jain',\n",
       "       'Supriya Kumari', 'Pravesh Mehta', 'Gaurav Gupta', 'Induslaw',\n",
       "       'Geekster', 'Manish Subramaniam', 'Eaglewings Ventures',\n",
       "       'Appit Simple Infotek', 'Ramakant Sharma', 'Keiretsu Forum',\n",
       "       'Lightspeed India Partners', 'Avataar Venture Partners',\n",
       "       'Raghav Kapur', 'GSF Accelerator', 'Rishi Kumar Bagla',\n",
       "       'Glade Brook Capital', 'Capital Group', 'Dinesh Agarwal',\n",
       "       'Arcilla', 'SUNiCON Ventures', 'Baring Private Equity India',\n",
       "       'Manuvel Malabar Jewellers', 'SternAegis Ventures',\n",
       "       'Warburg Pincus\\ufeff', 'Akash Prakash', 'OAKS Asset Management',\n",
       "       'Incofin', 'SIG', 'Ashish Jain', 'Aroa Ventures', 'Investcorp',\n",
       "       '2000000', 'Riteesh Mohan Bakshi', 'Sequoia Capital ',\n",
       "       'Alpha Wave Ventures', 'Vivek Vaidya', 'Kieretsu Forum',\n",
       "       'Smallcase', 'The StarupLab', 'Dallas Venture Capital', 'Raj Nair',\n",
       "       'General Atlantic', 'Ascent Capital',\n",
       "       'Family Office of Kantamaneni', 'Saama Capital\\ufeff',\n",
       "       'Falcon Edge', 'Abu Dhabi Growth Fund', 'Ronnie Screwvala',\n",
       "       'WestBridge Capital', 'Elevation', 'Nueva', 'Apoorva Sharma',\n",
       "       'Kvanto Payment Services', 'Oxshott Capital Partners',\n",
       "       'Lightrock India', 'EKKI', 'Stakeboat Capital',\n",
       "       'Coinbase Ventures', 'Let’s Venture',\n",
       "       'International Finance Corporation', 'Alia Bhatt', 'LetsVenture',\n",
       "       'Qatar Investment Authority', 'Netcore Cloud', 'Petronas Ventures',\n",
       "       'Solana', 'Auxano Capital', 'Prashant Pansare',\n",
       "       'Docprime Technologies', 'LC Nueva AIF', 'Nitish Mittersain',\n",
       "       'Republic Crypto', 'Data Point Capital', 'Momentum 6',\n",
       "       'Norwest Venture Partners', 'Sabre Partners', 'Vertex Ventures',\n",
       "       'Base 10 Partners', 'enture Catalyst', 'BAce Capital',\n",
       "       'Leo Capital', 'Plutus Wealth', 'Anil Thadani', 'Pi Ventures LLP',\n",
       "       'Vitol', 'Ruchirans Jaipuria', 'Manish Choksi', 'Nadir B Godrej',\n",
       "       'Celesta Capital', 'TransUnion', 'Blume',\n",
       "       'Habitat for Humanity International', 'Kora Capital',\n",
       "       'Iconiq Growth', 'Rukam Capital', 'MAS Financial Services',\n",
       "       'Rocketship.vc', 'Alok Kohli', 'Z3Partners', 'Pavestone Ventures',\n",
       "       'Sofina', 'Dia Mirza', 'Pritt Investment Partners', 'Darq Capital',\n",
       "       'StartupXseed Ventures', 'Xponentia Capital Partners',\n",
       "       'Vulcan Capital', 'InCorp India', 'Oikocredit', 'Kedaara',\n",
       "       'Moore Strategic Ventures', 'ABC World Asia',\n",
       "       'Prime Securities Limited', 'Old Fashion Research', 'NEVF',\n",
       "       'The Treasury', 'Ramp', 'India Angel Network', 'Responsibility',\n",
       "       'Dream Capital', 'Lee Fixel’s venture capital firm',\n",
       "       'The Xander Group', 'Aarin Capital', 'James Milner',\n",
       "       'Kunal Sarkar', 'Morgan Stanley Private Equity Asia', 'JAM',\n",
       "       'Incofin’s India Progress Fund', 'Jani Ventures INC',\n",
       "       'CreedCap Asia Advisors', 'Joseph Joy', 'Trifecta Capital',\n",
       "       'Vineet Singh', 'MaGEHold', 'Season Two Ventures',\n",
       "       'Tree Line Investment Management', 'Orbimed Asia Partners',\n",
       "       'Zip Co', 'TheVentures', 'Cygnus Medicare Group', 'M2P Fintech',\n",
       "       'SucSEED  Indovation Fund', 'Legatum Capital', 'Navneet Education',\n",
       "       'Sonu Nigam', 'Aditya Duggar', 'IIFL\\ufeff',\n",
       "       'Invesco Developing Markets Fund', 'Cholamandalam',\n",
       "       'Curesense Therapeutics', 'Ka Enterprises', 'Sujeet Kumar',\n",
       "       'Ameba Capital', 'Susquehanna International Group', 'Ashok Goyal',\n",
       "       'Cure.fit', 'HOF Capital', 'Jinisha Sharma',\n",
       "       'Arvind Venugopal Nair', 'Covalent', 'Vijayan', 'Rachit Poddar',\n",
       "       'Virenxia Group', 'Prashasta Seth', 'Zoho', 'Transworld Group',\n",
       "       'Owl Ventures', 'Winter Capital'], dtype=object)"
      ]
     },
     "execution_count": 58,
     "metadata": {},
     "output_type": "execute_result"
    }
   ],
   "source": [
    "data2021['Investor'].unique()"
   ]
  },
  {
   "cell_type": "markdown",
   "metadata": {},
   "source": [
    "Done!.............let's check further for missing values"
   ]
  },
  {
   "cell_type": "code",
   "execution_count": 59,
   "metadata": {},
   "outputs": [
    {
     "data": {
      "text/plain": [
       "0"
      ]
     },
     "execution_count": 59,
     "metadata": {},
     "output_type": "execute_result"
    }
   ],
   "source": [
    "# Get the number of null values in the investor column\n",
    "\n",
    "data2021['Investor'].isnull().sum()"
   ]
  },
  {
   "cell_type": "markdown",
   "metadata": {},
   "source": [
    "Done!\n",
    "\n",
    "Moving to the Sector column"
   ]
  },
  {
   "cell_type": "code",
   "execution_count": 60,
   "metadata": {},
   "outputs": [
    {
     "data": {
      "text/plain": [
       "0        AI startup\n",
       "1            EdTech\n",
       "2            EdTech\n",
       "3    B2B E-commerce\n",
       "4           FinTech\n",
       "5     Home services\n",
       "6        HealthTech\n",
       "7        HealthTech\n",
       "8      Tech Startup\n",
       "9        E-commerce\n",
       "Name: Sector, dtype: object"
      ]
     },
     "execution_count": 60,
     "metadata": {},
     "output_type": "execute_result"
    }
   ],
   "source": [
    "data2021['Sector'].head(10)"
   ]
  }
 ],
 "metadata": {
  "kernelspec": {
   "display_name": "myenv",
   "language": "python",
   "name": "python3"
  },
  "language_info": {
   "codemirror_mode": {
    "name": "ipython",
    "version": 3
   },
   "file_extension": ".py",
   "mimetype": "text/x-python",
   "name": "python",
   "nbconvert_exporter": "python",
   "pygments_lexer": "ipython3",
   "version": "3.9.0"
  },
  "orig_nbformat": 4
 },
 "nbformat": 4,
 "nbformat_minor": 2
}
